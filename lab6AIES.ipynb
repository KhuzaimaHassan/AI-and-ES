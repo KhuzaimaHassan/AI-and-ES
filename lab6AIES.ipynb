{
 "cells": [
  {
   "cell_type": "code",
   "execution_count": 2,
   "id": "0906760a-50e4-473e-9aba-de3b2de80987",
   "metadata": {},
   "outputs": [
    {
     "name": "stdout",
     "output_type": "stream",
     "text": [
      "Collecting Pyaudio\n",
      "  Downloading PyAudio-0.2.14-cp312-cp312-win_amd64.whl.metadata (2.7 kB)\n",
      "Downloading PyAudio-0.2.14-cp312-cp312-win_amd64.whl (164 kB)\n",
      "   ---------------------------------------- 0.0/164.1 kB ? eta -:--:--\n",
      "   -- ------------------------------------- 10.2/164.1 kB ? eta -:--:--\n",
      "   ------- ------------------------------- 30.7/164.1 kB 330.3 kB/s eta 0:00:01\n",
      "   ----------------------- -------------- 102.4/164.1 kB 737.3 kB/s eta 0:00:01\n",
      "   -------------------------------------- 164.1/164.1 kB 894.7 kB/s eta 0:00:00\n",
      "Installing collected packages: Pyaudio\n",
      "Successfully installed Pyaudio-0.2.14\n"
     ]
    }
   ],
   "source": [
    "!pip install Pyaudio"
   ]
  },
  {
   "cell_type": "code",
   "execution_count": 4,
   "id": "5804127b-8b9b-4743-bf30-5b35695e21ac",
   "metadata": {},
   "outputs": [
    {
     "name": "stdout",
     "output_type": "stream",
     "text": [
      "Requirement already satisfied: SpeechRecognition in d:\\anaconda\\lib\\site-packages (3.10.4)\n",
      "Requirement already satisfied: requests>=2.26.0 in d:\\anaconda\\lib\\site-packages (from SpeechRecognition) (2.32.2)\n",
      "Requirement already satisfied: typing-extensions in d:\\anaconda\\lib\\site-packages (from SpeechRecognition) (4.11.0)\n",
      "Requirement already satisfied: charset-normalizer<4,>=2 in d:\\anaconda\\lib\\site-packages (from requests>=2.26.0->SpeechRecognition) (2.0.4)\n",
      "Requirement already satisfied: idna<4,>=2.5 in d:\\anaconda\\lib\\site-packages (from requests>=2.26.0->SpeechRecognition) (3.7)\n",
      "Requirement already satisfied: urllib3<3,>=1.21.1 in d:\\anaconda\\lib\\site-packages (from requests>=2.26.0->SpeechRecognition) (2.2.2)\n",
      "Requirement already satisfied: certifi>=2017.4.17 in d:\\anaconda\\lib\\site-packages (from requests>=2.26.0->SpeechRecognition) (2024.6.2)\n"
     ]
    }
   ],
   "source": [
    "!pip install SpeechRecognition"
   ]
  },
  {
   "cell_type": "code",
   "execution_count": 5,
   "id": "1d841e13-a377-4f59-a4a1-747a11cd1ce1",
   "metadata": {},
   "outputs": [
    {
     "name": "stdout",
     "output_type": "stream",
     "text": [
      "Collecting google-api-python-client\n",
      "  Downloading google_api_python_client-2.149.0-py2.py3-none-any.whl.metadata (6.7 kB)\n",
      "Collecting httplib2<1.dev0,>=0.19.0 (from google-api-python-client)\n",
      "  Downloading httplib2-0.22.0-py3-none-any.whl.metadata (2.6 kB)\n",
      "Collecting google-auth!=2.24.0,!=2.25.0,<3.0.0.dev0,>=1.32.0 (from google-api-python-client)\n",
      "  Downloading google_auth-2.35.0-py2.py3-none-any.whl.metadata (4.7 kB)\n",
      "Collecting google-auth-httplib2<1.0.0,>=0.2.0 (from google-api-python-client)\n",
      "  Downloading google_auth_httplib2-0.2.0-py2.py3-none-any.whl.metadata (2.2 kB)\n",
      "Collecting google-api-core!=2.0.*,!=2.1.*,!=2.2.*,!=2.3.0,<3.0.0.dev0,>=1.31.5 (from google-api-python-client)\n",
      "  Downloading google_api_core-2.21.0-py3-none-any.whl.metadata (2.8 kB)\n",
      "Collecting uritemplate<5,>=3.0.1 (from google-api-python-client)\n",
      "  Downloading uritemplate-4.1.1-py2.py3-none-any.whl.metadata (2.9 kB)\n",
      "Collecting googleapis-common-protos<2.0.dev0,>=1.56.2 (from google-api-core!=2.0.*,!=2.1.*,!=2.2.*,!=2.3.0,<3.0.0.dev0,>=1.31.5->google-api-python-client)\n",
      "  Downloading googleapis_common_protos-1.65.0-py2.py3-none-any.whl.metadata (1.5 kB)\n",
      "Requirement already satisfied: protobuf!=3.20.0,!=3.20.1,!=4.21.0,!=4.21.1,!=4.21.2,!=4.21.3,!=4.21.4,!=4.21.5,<6.0.0.dev0,>=3.19.5 in d:\\anaconda\\lib\\site-packages (from google-api-core!=2.0.*,!=2.1.*,!=2.2.*,!=2.3.0,<3.0.0.dev0,>=1.31.5->google-api-python-client) (3.20.3)\n",
      "Collecting proto-plus<2.0.0dev,>=1.22.3 (from google-api-core!=2.0.*,!=2.1.*,!=2.2.*,!=2.3.0,<3.0.0.dev0,>=1.31.5->google-api-python-client)\n",
      "  Downloading proto_plus-1.24.0-py3-none-any.whl.metadata (2.2 kB)\n",
      "Requirement already satisfied: requests<3.0.0.dev0,>=2.18.0 in d:\\anaconda\\lib\\site-packages (from google-api-core!=2.0.*,!=2.1.*,!=2.2.*,!=2.3.0,<3.0.0.dev0,>=1.31.5->google-api-python-client) (2.32.2)\n",
      "Requirement already satisfied: cachetools<6.0,>=2.0.0 in d:\\anaconda\\lib\\site-packages (from google-auth!=2.24.0,!=2.25.0,<3.0.0.dev0,>=1.32.0->google-api-python-client) (5.3.3)\n",
      "Requirement already satisfied: pyasn1-modules>=0.2.1 in d:\\anaconda\\lib\\site-packages (from google-auth!=2.24.0,!=2.25.0,<3.0.0.dev0,>=1.32.0->google-api-python-client) (0.2.8)\n",
      "Collecting rsa<5,>=3.1.4 (from google-auth!=2.24.0,!=2.25.0,<3.0.0.dev0,>=1.32.0->google-api-python-client)\n",
      "  Downloading rsa-4.9-py3-none-any.whl.metadata (4.2 kB)\n",
      "Requirement already satisfied: pyparsing!=3.0.0,!=3.0.1,!=3.0.2,!=3.0.3,<4,>=2.4.2 in d:\\anaconda\\lib\\site-packages (from httplib2<1.dev0,>=0.19.0->google-api-python-client) (3.0.9)\n",
      "Requirement already satisfied: pyasn1<0.5.0,>=0.4.6 in d:\\anaconda\\lib\\site-packages (from pyasn1-modules>=0.2.1->google-auth!=2.24.0,!=2.25.0,<3.0.0.dev0,>=1.32.0->google-api-python-client) (0.4.8)\n",
      "Requirement already satisfied: charset-normalizer<4,>=2 in d:\\anaconda\\lib\\site-packages (from requests<3.0.0.dev0,>=2.18.0->google-api-core!=2.0.*,!=2.1.*,!=2.2.*,!=2.3.0,<3.0.0.dev0,>=1.31.5->google-api-python-client) (2.0.4)\n",
      "Requirement already satisfied: idna<4,>=2.5 in d:\\anaconda\\lib\\site-packages (from requests<3.0.0.dev0,>=2.18.0->google-api-core!=2.0.*,!=2.1.*,!=2.2.*,!=2.3.0,<3.0.0.dev0,>=1.31.5->google-api-python-client) (3.7)\n",
      "Requirement already satisfied: urllib3<3,>=1.21.1 in d:\\anaconda\\lib\\site-packages (from requests<3.0.0.dev0,>=2.18.0->google-api-core!=2.0.*,!=2.1.*,!=2.2.*,!=2.3.0,<3.0.0.dev0,>=1.31.5->google-api-python-client) (2.2.2)\n",
      "Requirement already satisfied: certifi>=2017.4.17 in d:\\anaconda\\lib\\site-packages (from requests<3.0.0.dev0,>=2.18.0->google-api-core!=2.0.*,!=2.1.*,!=2.2.*,!=2.3.0,<3.0.0.dev0,>=1.31.5->google-api-python-client) (2024.6.2)\n",
      "Downloading google_api_python_client-2.149.0-py2.py3-none-any.whl (12.3 MB)\n",
      "   ---------------------------------------- 0.0/12.3 MB ? eta -:--:--\n",
      "   ---------------------------------------- 0.0/12.3 MB 991.0 kB/s eta 0:00:13\n",
      "    --------------------------------------- 0.2/12.3 MB 2.8 MB/s eta 0:00:05\n",
      "    --------------------------------------- 0.3/12.3 MB 2.1 MB/s eta 0:00:06\n",
      "   - -------------------------------------- 0.4/12.3 MB 2.4 MB/s eta 0:00:05\n",
      "   - -------------------------------------- 0.4/12.3 MB 2.4 MB/s eta 0:00:05\n",
      "   -- ------------------------------------- 0.7/12.3 MB 2.6 MB/s eta 0:00:05\n",
      "   -- ------------------------------------- 0.8/12.3 MB 2.6 MB/s eta 0:00:05\n",
      "   -- ------------------------------------- 0.9/12.3 MB 2.5 MB/s eta 0:00:05\n",
      "   --- ------------------------------------ 1.0/12.3 MB 2.4 MB/s eta 0:00:05\n",
      "   --- ------------------------------------ 1.2/12.3 MB 2.6 MB/s eta 0:00:05\n",
      "   ---- ----------------------------------- 1.4/12.3 MB 2.7 MB/s eta 0:00:05\n",
      "   ---- ----------------------------------- 1.5/12.3 MB 2.7 MB/s eta 0:00:05\n",
      "   ----- ---------------------------------- 1.6/12.3 MB 2.7 MB/s eta 0:00:05\n",
      "   ----- ---------------------------------- 1.7/12.3 MB 2.7 MB/s eta 0:00:04\n",
      "   ----- ---------------------------------- 1.8/12.3 MB 2.7 MB/s eta 0:00:04\n",
      "   ------ --------------------------------- 2.0/12.3 MB 2.7 MB/s eta 0:00:04\n",
      "   ------ --------------------------------- 2.1/12.3 MB 2.7 MB/s eta 0:00:04\n",
      "   ------- -------------------------------- 2.2/12.3 MB 2.7 MB/s eta 0:00:04\n",
      "   ------- -------------------------------- 2.3/12.3 MB 2.7 MB/s eta 0:00:04\n",
      "   ------- -------------------------------- 2.5/12.3 MB 2.7 MB/s eta 0:00:04\n",
      "   -------- ------------------------------- 2.6/12.3 MB 2.7 MB/s eta 0:00:04\n",
      "   -------- ------------------------------- 2.7/12.3 MB 2.7 MB/s eta 0:00:04\n",
      "   -------- ------------------------------- 2.8/12.3 MB 2.7 MB/s eta 0:00:04\n",
      "   --------- ------------------------------ 2.8/12.3 MB 2.6 MB/s eta 0:00:04\n",
      "   --------- ------------------------------ 2.9/12.3 MB 2.5 MB/s eta 0:00:04\n",
      "   --------- ------------------------------ 3.0/12.3 MB 2.5 MB/s eta 0:00:04\n",
      "   ---------- ----------------------------- 3.1/12.3 MB 2.5 MB/s eta 0:00:04\n",
      "   ---------- ----------------------------- 3.3/12.3 MB 2.5 MB/s eta 0:00:04\n",
      "   ---------- ----------------------------- 3.4/12.3 MB 2.5 MB/s eta 0:00:04\n",
      "   ----------- ---------------------------- 3.5/12.3 MB 2.5 MB/s eta 0:00:04\n",
      "   ----------- ---------------------------- 3.6/12.3 MB 2.5 MB/s eta 0:00:04\n",
      "   ------------ --------------------------- 3.7/12.3 MB 2.5 MB/s eta 0:00:04\n",
      "   ------------ --------------------------- 3.9/12.3 MB 2.5 MB/s eta 0:00:04\n",
      "   ------------ --------------------------- 4.0/12.3 MB 2.5 MB/s eta 0:00:04\n",
      "   ------------- -------------------------- 4.1/12.3 MB 2.5 MB/s eta 0:00:04\n",
      "   ------------- -------------------------- 4.2/12.3 MB 2.5 MB/s eta 0:00:04\n",
      "   -------------- ------------------------- 4.4/12.3 MB 2.6 MB/s eta 0:00:04\n",
      "   -------------- ------------------------- 4.4/12.3 MB 2.5 MB/s eta 0:00:04\n",
      "   -------------- ------------------------- 4.6/12.3 MB 2.5 MB/s eta 0:00:04\n",
      "   --------------- ------------------------ 4.7/12.3 MB 2.6 MB/s eta 0:00:03\n",
      "   --------------- ------------------------ 4.8/12.3 MB 2.5 MB/s eta 0:00:03\n",
      "   --------------- ------------------------ 4.9/12.3 MB 2.5 MB/s eta 0:00:03\n",
      "   ---------------- ----------------------- 5.0/12.3 MB 2.5 MB/s eta 0:00:03\n",
      "   ---------------- ----------------------- 5.1/12.3 MB 2.5 MB/s eta 0:00:03\n",
      "   ---------------- ----------------------- 5.2/12.3 MB 2.5 MB/s eta 0:00:03\n",
      "   ----------------- ---------------------- 5.3/12.3 MB 2.5 MB/s eta 0:00:03\n",
      "   ----------------- ---------------------- 5.5/12.3 MB 2.5 MB/s eta 0:00:03\n",
      "   ------------------ --------------------- 5.6/12.3 MB 2.5 MB/s eta 0:00:03\n",
      "   ------------------ --------------------- 5.7/12.3 MB 2.5 MB/s eta 0:00:03\n",
      "   ------------------- -------------------- 5.8/12.3 MB 2.5 MB/s eta 0:00:03\n",
      "   ------------------- -------------------- 6.0/12.3 MB 2.5 MB/s eta 0:00:03\n",
      "   ------------------- -------------------- 6.1/12.3 MB 2.5 MB/s eta 0:00:03\n",
      "   -------------------- ------------------- 6.3/12.3 MB 2.5 MB/s eta 0:00:03\n",
      "   -------------------- ------------------- 6.4/12.3 MB 2.5 MB/s eta 0:00:03\n",
      "   --------------------- ------------------ 6.5/12.3 MB 2.5 MB/s eta 0:00:03\n",
      "   --------------------- ------------------ 6.6/12.3 MB 2.5 MB/s eta 0:00:03\n",
      "   ---------------------- ----------------- 6.8/12.3 MB 2.5 MB/s eta 0:00:03\n",
      "   ---------------------- ----------------- 6.9/12.3 MB 2.6 MB/s eta 0:00:03\n",
      "   ---------------------- ----------------- 7.0/12.3 MB 2.6 MB/s eta 0:00:03\n",
      "   ----------------------- ---------------- 7.2/12.3 MB 2.6 MB/s eta 0:00:03\n",
      "   ----------------------- ---------------- 7.3/12.3 MB 2.6 MB/s eta 0:00:02\n",
      "   ------------------------ --------------- 7.4/12.3 MB 2.6 MB/s eta 0:00:02\n",
      "   ------------------------ --------------- 7.5/12.3 MB 2.6 MB/s eta 0:00:02\n",
      "   ------------------------ --------------- 7.7/12.3 MB 2.6 MB/s eta 0:00:02\n",
      "   ------------------------- -------------- 7.8/12.3 MB 2.6 MB/s eta 0:00:02\n",
      "   ------------------------- -------------- 7.9/12.3 MB 2.6 MB/s eta 0:00:02\n",
      "   -------------------------- ------------- 8.0/12.3 MB 2.6 MB/s eta 0:00:02\n",
      "   -------------------------- ------------- 8.2/12.3 MB 2.6 MB/s eta 0:00:02\n",
      "   -------------------------- ------------- 8.3/12.3 MB 2.6 MB/s eta 0:00:02\n",
      "   --------------------------- ------------ 8.4/12.3 MB 2.6 MB/s eta 0:00:02\n",
      "   --------------------------- ------------ 8.5/12.3 MB 2.6 MB/s eta 0:00:02\n",
      "   ---------------------------- ----------- 8.7/12.3 MB 2.6 MB/s eta 0:00:02\n",
      "   ---------------------------- ----------- 8.8/12.3 MB 2.6 MB/s eta 0:00:02\n",
      "   ----------------------------- ---------- 8.9/12.3 MB 2.6 MB/s eta 0:00:02\n",
      "   ----------------------------- ---------- 9.0/12.3 MB 2.6 MB/s eta 0:00:02\n",
      "   ----------------------------- ---------- 9.2/12.3 MB 2.6 MB/s eta 0:00:02\n",
      "   ------------------------------ --------- 9.3/12.3 MB 2.6 MB/s eta 0:00:02\n",
      "   ------------------------------ --------- 9.5/12.3 MB 2.6 MB/s eta 0:00:02\n",
      "   ------------------------------- -------- 9.6/12.3 MB 2.6 MB/s eta 0:00:02\n",
      "   ------------------------------- -------- 9.7/12.3 MB 2.6 MB/s eta 0:00:01\n",
      "   ------------------------------- -------- 9.8/12.3 MB 2.6 MB/s eta 0:00:01\n",
      "   -------------------------------- ------- 10.0/12.3 MB 2.6 MB/s eta 0:00:01\n",
      "   -------------------------------- ------- 10.1/12.3 MB 2.6 MB/s eta 0:00:01\n",
      "   --------------------------------- ------ 10.2/12.3 MB 2.6 MB/s eta 0:00:01\n",
      "   --------------------------------- ------ 10.3/12.3 MB 2.6 MB/s eta 0:00:01\n",
      "   ---------------------------------- ----- 10.5/12.3 MB 2.6 MB/s eta 0:00:01\n",
      "   ---------------------------------- ----- 10.6/12.3 MB 2.6 MB/s eta 0:00:01\n",
      "   ---------------------------------- ----- 10.7/12.3 MB 2.6 MB/s eta 0:00:01\n",
      "   ----------------------------------- ---- 10.9/12.3 MB 2.6 MB/s eta 0:00:01\n",
      "   ----------------------------------- ---- 11.0/12.3 MB 2.6 MB/s eta 0:00:01\n",
      "   ------------------------------------ --- 11.1/12.3 MB 2.6 MB/s eta 0:00:01\n",
      "   ------------------------------------ --- 11.3/12.3 MB 2.6 MB/s eta 0:00:01\n",
      "   ------------------------------------- -- 11.4/12.3 MB 2.6 MB/s eta 0:00:01\n",
      "   ------------------------------------- -- 11.5/12.3 MB 2.6 MB/s eta 0:00:01\n",
      "   ------------------------------------- -- 11.6/12.3 MB 2.6 MB/s eta 0:00:01\n",
      "   -------------------------------------- - 11.8/12.3 MB 2.6 MB/s eta 0:00:01\n",
      "   -------------------------------------- - 11.9/12.3 MB 2.6 MB/s eta 0:00:01\n",
      "   ---------------------------------------  12.0/12.3 MB 2.6 MB/s eta 0:00:01\n",
      "   ---------------------------------------  12.2/12.3 MB 2.6 MB/s eta 0:00:01\n",
      "   ---------------------------------------  12.3/12.3 MB 2.6 MB/s eta 0:00:01\n",
      "   ---------------------------------------  12.3/12.3 MB 2.6 MB/s eta 0:00:01\n",
      "   ---------------------------------------  12.3/12.3 MB 2.6 MB/s eta 0:00:01\n",
      "   ---------------------------------------- 12.3/12.3 MB 2.5 MB/s eta 0:00:00\n",
      "Downloading google_api_core-2.21.0-py3-none-any.whl (156 kB)\n",
      "   ---------------------------------------- 0.0/156.4 kB ? eta -:--:--\n",
      "   ---------------------------------------  153.6/156.4 kB 4.6 MB/s eta 0:00:01\n",
      "   ---------------------------------------- 156.4/156.4 kB 3.1 MB/s eta 0:00:00\n",
      "Downloading google_auth-2.35.0-py2.py3-none-any.whl (208 kB)\n",
      "   ---------------------------------------- 0.0/209.0 kB ? eta -:--:--\n",
      "   ----------------------------- ---------- 153.6/209.0 kB 4.6 MB/s eta 0:00:01\n",
      "   ---------------------------------------  204.8/209.0 kB 4.2 MB/s eta 0:00:01\n",
      "   ---------------------------------------- 209.0/209.0 kB 1.8 MB/s eta 0:00:00\n",
      "Downloading google_auth_httplib2-0.2.0-py2.py3-none-any.whl (9.3 kB)\n",
      "Downloading httplib2-0.22.0-py3-none-any.whl (96 kB)\n",
      "   ---------------------------------------- 0.0/96.9 kB ? eta -:--:--\n",
      "   ---------------------------------------- 96.9/96.9 kB 2.7 MB/s eta 0:00:00\n",
      "Downloading uritemplate-4.1.1-py2.py3-none-any.whl (10 kB)\n",
      "Downloading googleapis_common_protos-1.65.0-py2.py3-none-any.whl (220 kB)\n",
      "   ---------------------------------------- 0.0/220.9 kB ? eta -:--:--\n",
      "   ------------------------------- -------- 174.1/220.9 kB 5.3 MB/s eta 0:00:01\n",
      "   -------------------------------------- - 215.0/220.9 kB 6.6 MB/s eta 0:00:01\n",
      "   ---------------------------------------- 220.9/220.9 kB 2.2 MB/s eta 0:00:00\n",
      "Downloading proto_plus-1.24.0-py3-none-any.whl (50 kB)\n",
      "   ---------------------------------------- 0.0/50.1 kB ? eta -:--:--\n",
      "   ---------------------------------------- 50.1/50.1 kB 1.3 MB/s eta 0:00:00\n",
      "Downloading rsa-4.9-py3-none-any.whl (34 kB)\n",
      "Installing collected packages: uritemplate, rsa, proto-plus, httplib2, googleapis-common-protos, google-auth, google-auth-httplib2, google-api-core, google-api-python-client\n",
      "Successfully installed google-api-core-2.21.0 google-api-python-client-2.149.0 google-auth-2.35.0 google-auth-httplib2-0.2.0 googleapis-common-protos-1.65.0 httplib2-0.22.0 proto-plus-1.24.0 rsa-4.9 uritemplate-4.1.1\n"
     ]
    }
   ],
   "source": [
    "!pip install google-api-python-client"
   ]
  },
  {
   "cell_type": "code",
   "execution_count": 7,
   "id": "1208687b-45fa-4fbe-b7b4-b47c972e2c37",
   "metadata": {},
   "outputs": [
    {
     "name": "stdout",
     "output_type": "stream",
     "text": [
      "Please Say something: \n",
      "You said: \n",
      "my name is Mohammed Huzaifa Hassan\n"
     ]
    }
   ],
   "source": [
    "import speech_recognition as sr\n",
    "recording= sr.Recognizer()\n",
    "with sr.Microphone() as source:\n",
    "  recording.adjust_for_ambient_noise(source)\n",
    "  print( \"Please Say something: \")\n",
    "  audio =recording.listen(source)\n",
    "try:\n",
    "  print(\"You said: \\n\" + recording.recognize_google(audio))\n",
    "except Exception as e:\n",
    "  print(e)"
   ]
  },
  {
   "cell_type": "code",
   "execution_count": 12,
   "id": "1caf285c-9a22-45bb-b1fc-fccfe9cdc55d",
   "metadata": {},
   "outputs": [
    {
     "name": "stdout",
     "output_type": "stream",
     "text": [
      "Please Say something: \n",
      "You said: \n",
      "Huzaifa\n"
     ]
    }
   ],
   "source": [
    "import speech_recognition as sr\n",
    "recording= sr.Recognizer()\n",
    "with sr.Microphone() as source:\n",
    "  recording.adjust_for_ambient_noise(source)\n",
    "  print( \"Please Say something: \")\n",
    "  audio =recording.listen(source)\n",
    "try:\n",
    "  print(\"You said: \\n\" + recording.recognize_google(audio))\n",
    "except Exception as e:\n",
    "  print(e)"
   ]
  },
  {
   "cell_type": "code",
   "execution_count": 5,
   "id": "bf350f1c-309f-4c78-abaf-46c2b0e1ed54",
   "metadata": {},
   "outputs": [
    {
     "name": "stdout",
     "output_type": "stream",
     "text": [
      "Please spell out your name:\n",
      "Say letter 1:\n",
      "Error:  \n",
      "Name spelled out is: \n"
     ]
    }
   ],
   "source": [
    "import speech_recognition as sr\n",
    "\n",
    "def spell_out_name():\n",
    "    recognizer = sr.Recognizer()\n",
    "    with sr.Microphone() as source:\n",
    "        recognizer.adjust_for_ambient_noise(source)\n",
    "        print(\"Please spell out your name:\")\n",
    "        spelled_name = \"\"\n",
    "        try:\n",
    "            # Assume user will speak each letter and then press a key to continue\n",
    "            for i in range(7):  # Assuming \"Khuzaima\" has 7 letters\n",
    "                print(f\"Say letter {i + 1}:\")\n",
    "                audio = recognizer.listen(source)\n",
    "                letter = recognizer.recognize_google(audio, language='en-US')\n",
    "                spelled_name += letter.upper()  # Append recognized letter\n",
    "                print(f\"Recognized letter: {letter.upper()}\")\n",
    "        except Exception as e:\n",
    "            print(\"Error: \", e)\n",
    "\n",
    "        return spelled_name\n",
    "\n",
    "name = spell_out_name()\n",
    "print(f\"Name spelled out is: {name}\")\n"
   ]
  },
  {
   "cell_type": "code",
   "execution_count": null,
   "id": "f3a4aac3-6c41-4a57-baee-f51613c4ff0a",
   "metadata": {},
   "outputs": [],
   "source": []
  }
 ],
 "metadata": {
  "kernelspec": {
   "display_name": "Python 3 (ipykernel)",
   "language": "python",
   "name": "python3"
  },
  "language_info": {
   "codemirror_mode": {
    "name": "ipython",
    "version": 3
   },
   "file_extension": ".py",
   "mimetype": "text/x-python",
   "name": "python",
   "nbconvert_exporter": "python",
   "pygments_lexer": "ipython3",
   "version": "3.12.4"
  }
 },
 "nbformat": 4,
 "nbformat_minor": 5
}
