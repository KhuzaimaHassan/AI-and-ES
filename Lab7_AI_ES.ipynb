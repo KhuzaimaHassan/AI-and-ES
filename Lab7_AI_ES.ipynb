{
  "nbformat": 4,
  "nbformat_minor": 0,
  "metadata": {
    "colab": {
      "provenance": [],
      "gpuType": "T4",
      "authorship_tag": "ABX9TyMJY9Yg3KwlNuOufu3VnGW2",
      "include_colab_link": true
    },
    "kernelspec": {
      "name": "python3",
      "display_name": "Python 3"
    },
    "language_info": {
      "name": "python"
    }
  },
  "cells": [
    {
      "cell_type": "markdown",
      "metadata": {
        "id": "view-in-github",
        "colab_type": "text"
      },
      "source": [
        "<a href=\"https://colab.research.google.com/github/KhuzaimaHassan/AI-and-ES/blob/main/Lab7_AI_ES.ipynb\" target=\"_parent\"><img src=\"https://colab.research.google.com/assets/colab-badge.svg\" alt=\"Open In Colab\"/></a>"
      ]
    },
    {
      "cell_type": "code",
      "execution_count": null,
      "metadata": {
        "id": "WMimxG1E9e8g"
      },
      "outputs": [],
      "source": [
        "import numpy as np\n",
        "import pandas as pd\n",
        "import matplotlib.pyplot as plt\n",
        "import seaborn as sns\n",
        "from sklearn.svm import NuSVC\n",
        "from sklearn.model_selection import train_test_split\n"
      ]
    },
    {
      "cell_type": "code",
      "source": [
        "df=pd.read_csv('drug200.csv')\n",
        "\n",
        "df['Drug'].unique()\n",
        "df['Drug'].value_counts()"
      ],
      "metadata": {
        "colab": {
          "base_uri": "https://localhost:8080/",
          "height": 272
        },
        "id": "Oqn7Cu3EDIdz",
        "outputId": "6f50d1cf-645d-4484-a262-3d788870f2c8"
      },
      "execution_count": null,
      "outputs": [
        {
          "output_type": "execute_result",
          "data": {
            "text/plain": [
              "Drug\n",
              "DrugY    91\n",
              "drugX    54\n",
              "drugA    23\n",
              "drugC    16\n",
              "drugB    16\n",
              "Name: count, dtype: int64"
            ],
            "text/html": [
              "<div>\n",
              "<style scoped>\n",
              "    .dataframe tbody tr th:only-of-type {\n",
              "        vertical-align: middle;\n",
              "    }\n",
              "\n",
              "    .dataframe tbody tr th {\n",
              "        vertical-align: top;\n",
              "    }\n",
              "\n",
              "    .dataframe thead th {\n",
              "        text-align: right;\n",
              "    }\n",
              "</style>\n",
              "<table border=\"1\" class=\"dataframe\">\n",
              "  <thead>\n",
              "    <tr style=\"text-align: right;\">\n",
              "      <th></th>\n",
              "      <th>count</th>\n",
              "    </tr>\n",
              "    <tr>\n",
              "      <th>Drug</th>\n",
              "      <th></th>\n",
              "    </tr>\n",
              "  </thead>\n",
              "  <tbody>\n",
              "    <tr>\n",
              "      <th>DrugY</th>\n",
              "      <td>91</td>\n",
              "    </tr>\n",
              "    <tr>\n",
              "      <th>drugX</th>\n",
              "      <td>54</td>\n",
              "    </tr>\n",
              "    <tr>\n",
              "      <th>drugA</th>\n",
              "      <td>23</td>\n",
              "    </tr>\n",
              "    <tr>\n",
              "      <th>drugC</th>\n",
              "      <td>16</td>\n",
              "    </tr>\n",
              "    <tr>\n",
              "      <th>drugB</th>\n",
              "      <td>16</td>\n",
              "    </tr>\n",
              "  </tbody>\n",
              "</table>\n",
              "</div><br><label><b>dtype:</b> int64</label>"
            ]
          },
          "metadata": {},
          "execution_count": 24
        }
      ]
    },
    {
      "cell_type": "code",
      "source": [
        "ls = []\n",
        "\n",
        "for drugs in ['drugA', 'drugB', 'drugC']:\n",
        "  ls.append(df[df['Drug'] == drugs])\n",
        "tempy = df[df['Drug'] == 'DrugY']\n",
        "ls.append(tempy)\n",
        "tempx = df[df['Drug'] == 'drugX']\n",
        "ls.append(tempx)\n",
        "ls[4].head(3)"
      ],
      "metadata": {
        "colab": {
          "base_uri": "https://localhost:8080/",
          "height": 143
        },
        "id": "1iEF3ZmPDMbx",
        "outputId": "5e09f6dd-992d-40ea-8835-01f0e55e60bc"
      },
      "execution_count": null,
      "outputs": [
        {
          "output_type": "execute_result",
          "data": {
            "text/plain": [
              "    Age Sex      BP Cholesterol  Na_to_K   Drug\n",
              "3    28   F  NORMAL        HIGH    7.798  drugX\n",
              "5    22   F  NORMAL        HIGH    8.607  drugX\n",
              "14   50   F  NORMAL        HIGH   12.703  drugX"
            ],
            "text/html": [
              "\n",
              "  <div id=\"df-92689d97-bb6a-4b04-89bc-7b62d199047c\" class=\"colab-df-container\">\n",
              "    <div>\n",
              "<style scoped>\n",
              "    .dataframe tbody tr th:only-of-type {\n",
              "        vertical-align: middle;\n",
              "    }\n",
              "\n",
              "    .dataframe tbody tr th {\n",
              "        vertical-align: top;\n",
              "    }\n",
              "\n",
              "    .dataframe thead th {\n",
              "        text-align: right;\n",
              "    }\n",
              "</style>\n",
              "<table border=\"1\" class=\"dataframe\">\n",
              "  <thead>\n",
              "    <tr style=\"text-align: right;\">\n",
              "      <th></th>\n",
              "      <th>Age</th>\n",
              "      <th>Sex</th>\n",
              "      <th>BP</th>\n",
              "      <th>Cholesterol</th>\n",
              "      <th>Na_to_K</th>\n",
              "      <th>Drug</th>\n",
              "    </tr>\n",
              "  </thead>\n",
              "  <tbody>\n",
              "    <tr>\n",
              "      <th>3</th>\n",
              "      <td>28</td>\n",
              "      <td>F</td>\n",
              "      <td>NORMAL</td>\n",
              "      <td>HIGH</td>\n",
              "      <td>7.798</td>\n",
              "      <td>drugX</td>\n",
              "    </tr>\n",
              "    <tr>\n",
              "      <th>5</th>\n",
              "      <td>22</td>\n",
              "      <td>F</td>\n",
              "      <td>NORMAL</td>\n",
              "      <td>HIGH</td>\n",
              "      <td>8.607</td>\n",
              "      <td>drugX</td>\n",
              "    </tr>\n",
              "    <tr>\n",
              "      <th>14</th>\n",
              "      <td>50</td>\n",
              "      <td>F</td>\n",
              "      <td>NORMAL</td>\n",
              "      <td>HIGH</td>\n",
              "      <td>12.703</td>\n",
              "      <td>drugX</td>\n",
              "    </tr>\n",
              "  </tbody>\n",
              "</table>\n",
              "</div>\n",
              "    <div class=\"colab-df-buttons\">\n",
              "\n",
              "  <div class=\"colab-df-container\">\n",
              "    <button class=\"colab-df-convert\" onclick=\"convertToInteractive('df-92689d97-bb6a-4b04-89bc-7b62d199047c')\"\n",
              "            title=\"Convert this dataframe to an interactive table.\"\n",
              "            style=\"display:none;\">\n",
              "\n",
              "  <svg xmlns=\"http://www.w3.org/2000/svg\" height=\"24px\" viewBox=\"0 -960 960 960\">\n",
              "    <path d=\"M120-120v-720h720v720H120Zm60-500h600v-160H180v160Zm220 220h160v-160H400v160Zm0 220h160v-160H400v160ZM180-400h160v-160H180v160Zm440 0h160v-160H620v160ZM180-180h160v-160H180v160Zm440 0h160v-160H620v160Z\"/>\n",
              "  </svg>\n",
              "    </button>\n",
              "\n",
              "  <style>\n",
              "    .colab-df-container {\n",
              "      display:flex;\n",
              "      gap: 12px;\n",
              "    }\n",
              "\n",
              "    .colab-df-convert {\n",
              "      background-color: #E8F0FE;\n",
              "      border: none;\n",
              "      border-radius: 50%;\n",
              "      cursor: pointer;\n",
              "      display: none;\n",
              "      fill: #1967D2;\n",
              "      height: 32px;\n",
              "      padding: 0 0 0 0;\n",
              "      width: 32px;\n",
              "    }\n",
              "\n",
              "    .colab-df-convert:hover {\n",
              "      background-color: #E2EBFA;\n",
              "      box-shadow: 0px 1px 2px rgba(60, 64, 67, 0.3), 0px 1px 3px 1px rgba(60, 64, 67, 0.15);\n",
              "      fill: #174EA6;\n",
              "    }\n",
              "\n",
              "    .colab-df-buttons div {\n",
              "      margin-bottom: 4px;\n",
              "    }\n",
              "\n",
              "    [theme=dark] .colab-df-convert {\n",
              "      background-color: #3B4455;\n",
              "      fill: #D2E3FC;\n",
              "    }\n",
              "\n",
              "    [theme=dark] .colab-df-convert:hover {\n",
              "      background-color: #434B5C;\n",
              "      box-shadow: 0px 1px 3px 1px rgba(0, 0, 0, 0.15);\n",
              "      filter: drop-shadow(0px 1px 2px rgba(0, 0, 0, 0.3));\n",
              "      fill: #FFFFFF;\n",
              "    }\n",
              "  </style>\n",
              "\n",
              "    <script>\n",
              "      const buttonEl =\n",
              "        document.querySelector('#df-92689d97-bb6a-4b04-89bc-7b62d199047c button.colab-df-convert');\n",
              "      buttonEl.style.display =\n",
              "        google.colab.kernel.accessAllowed ? 'block' : 'none';\n",
              "\n",
              "      async function convertToInteractive(key) {\n",
              "        const element = document.querySelector('#df-92689d97-bb6a-4b04-89bc-7b62d199047c');\n",
              "        const dataTable =\n",
              "          await google.colab.kernel.invokeFunction('convertToInteractive',\n",
              "                                                    [key], {});\n",
              "        if (!dataTable) return;\n",
              "\n",
              "        const docLinkHtml = 'Like what you see? Visit the ' +\n",
              "          '<a target=\"_blank\" href=https://colab.research.google.com/notebooks/data_table.ipynb>data table notebook</a>'\n",
              "          + ' to learn more about interactive tables.';\n",
              "        element.innerHTML = '';\n",
              "        dataTable['output_type'] = 'display_data';\n",
              "        await google.colab.output.renderOutput(dataTable, element);\n",
              "        const docLink = document.createElement('div');\n",
              "        docLink.innerHTML = docLinkHtml;\n",
              "        element.appendChild(docLink);\n",
              "      }\n",
              "    </script>\n",
              "  </div>\n",
              "\n",
              "\n",
              "<div id=\"df-e247f8fd-9344-465c-999a-263d7977963f\">\n",
              "  <button class=\"colab-df-quickchart\" onclick=\"quickchart('df-e247f8fd-9344-465c-999a-263d7977963f')\"\n",
              "            title=\"Suggest charts\"\n",
              "            style=\"display:none;\">\n",
              "\n",
              "<svg xmlns=\"http://www.w3.org/2000/svg\" height=\"24px\"viewBox=\"0 0 24 24\"\n",
              "     width=\"24px\">\n",
              "    <g>\n",
              "        <path d=\"M19 3H5c-1.1 0-2 .9-2 2v14c0 1.1.9 2 2 2h14c1.1 0 2-.9 2-2V5c0-1.1-.9-2-2-2zM9 17H7v-7h2v7zm4 0h-2V7h2v10zm4 0h-2v-4h2v4z\"/>\n",
              "    </g>\n",
              "</svg>\n",
              "  </button>\n",
              "\n",
              "<style>\n",
              "  .colab-df-quickchart {\n",
              "      --bg-color: #E8F0FE;\n",
              "      --fill-color: #1967D2;\n",
              "      --hover-bg-color: #E2EBFA;\n",
              "      --hover-fill-color: #174EA6;\n",
              "      --disabled-fill-color: #AAA;\n",
              "      --disabled-bg-color: #DDD;\n",
              "  }\n",
              "\n",
              "  [theme=dark] .colab-df-quickchart {\n",
              "      --bg-color: #3B4455;\n",
              "      --fill-color: #D2E3FC;\n",
              "      --hover-bg-color: #434B5C;\n",
              "      --hover-fill-color: #FFFFFF;\n",
              "      --disabled-bg-color: #3B4455;\n",
              "      --disabled-fill-color: #666;\n",
              "  }\n",
              "\n",
              "  .colab-df-quickchart {\n",
              "    background-color: var(--bg-color);\n",
              "    border: none;\n",
              "    border-radius: 50%;\n",
              "    cursor: pointer;\n",
              "    display: none;\n",
              "    fill: var(--fill-color);\n",
              "    height: 32px;\n",
              "    padding: 0;\n",
              "    width: 32px;\n",
              "  }\n",
              "\n",
              "  .colab-df-quickchart:hover {\n",
              "    background-color: var(--hover-bg-color);\n",
              "    box-shadow: 0 1px 2px rgba(60, 64, 67, 0.3), 0 1px 3px 1px rgba(60, 64, 67, 0.15);\n",
              "    fill: var(--button-hover-fill-color);\n",
              "  }\n",
              "\n",
              "  .colab-df-quickchart-complete:disabled,\n",
              "  .colab-df-quickchart-complete:disabled:hover {\n",
              "    background-color: var(--disabled-bg-color);\n",
              "    fill: var(--disabled-fill-color);\n",
              "    box-shadow: none;\n",
              "  }\n",
              "\n",
              "  .colab-df-spinner {\n",
              "    border: 2px solid var(--fill-color);\n",
              "    border-color: transparent;\n",
              "    border-bottom-color: var(--fill-color);\n",
              "    animation:\n",
              "      spin 1s steps(1) infinite;\n",
              "  }\n",
              "\n",
              "  @keyframes spin {\n",
              "    0% {\n",
              "      border-color: transparent;\n",
              "      border-bottom-color: var(--fill-color);\n",
              "      border-left-color: var(--fill-color);\n",
              "    }\n",
              "    20% {\n",
              "      border-color: transparent;\n",
              "      border-left-color: var(--fill-color);\n",
              "      border-top-color: var(--fill-color);\n",
              "    }\n",
              "    30% {\n",
              "      border-color: transparent;\n",
              "      border-left-color: var(--fill-color);\n",
              "      border-top-color: var(--fill-color);\n",
              "      border-right-color: var(--fill-color);\n",
              "    }\n",
              "    40% {\n",
              "      border-color: transparent;\n",
              "      border-right-color: var(--fill-color);\n",
              "      border-top-color: var(--fill-color);\n",
              "    }\n",
              "    60% {\n",
              "      border-color: transparent;\n",
              "      border-right-color: var(--fill-color);\n",
              "    }\n",
              "    80% {\n",
              "      border-color: transparent;\n",
              "      border-right-color: var(--fill-color);\n",
              "      border-bottom-color: var(--fill-color);\n",
              "    }\n",
              "    90% {\n",
              "      border-color: transparent;\n",
              "      border-bottom-color: var(--fill-color);\n",
              "    }\n",
              "  }\n",
              "</style>\n",
              "\n",
              "  <script>\n",
              "    async function quickchart(key) {\n",
              "      const quickchartButtonEl =\n",
              "        document.querySelector('#' + key + ' button');\n",
              "      quickchartButtonEl.disabled = true;  // To prevent multiple clicks.\n",
              "      quickchartButtonEl.classList.add('colab-df-spinner');\n",
              "      try {\n",
              "        const charts = await google.colab.kernel.invokeFunction(\n",
              "            'suggestCharts', [key], {});\n",
              "      } catch (error) {\n",
              "        console.error('Error during call to suggestCharts:', error);\n",
              "      }\n",
              "      quickchartButtonEl.classList.remove('colab-df-spinner');\n",
              "      quickchartButtonEl.classList.add('colab-df-quickchart-complete');\n",
              "    }\n",
              "    (() => {\n",
              "      let quickchartButtonEl =\n",
              "        document.querySelector('#df-e247f8fd-9344-465c-999a-263d7977963f button');\n",
              "      quickchartButtonEl.style.display =\n",
              "        google.colab.kernel.accessAllowed ? 'block' : 'none';\n",
              "    })();\n",
              "  </script>\n",
              "</div>\n",
              "\n",
              "    </div>\n",
              "  </div>\n"
            ],
            "application/vnd.google.colaboratory.intrinsic+json": {
              "type": "dataframe",
              "summary": "{\n  \"name\": \"ls[4]\",\n  \"rows\": 3,\n  \"fields\": [\n    {\n      \"column\": \"Age\",\n      \"properties\": {\n        \"dtype\": \"number\",\n        \"std\": 14,\n        \"min\": 22,\n        \"max\": 50,\n        \"num_unique_values\": 3,\n        \"samples\": [\n          28,\n          22,\n          50\n        ],\n        \"semantic_type\": \"\",\n        \"description\": \"\"\n      }\n    },\n    {\n      \"column\": \"Sex\",\n      \"properties\": {\n        \"dtype\": \"category\",\n        \"num_unique_values\": 1,\n        \"samples\": [\n          \"F\"\n        ],\n        \"semantic_type\": \"\",\n        \"description\": \"\"\n      }\n    },\n    {\n      \"column\": \"BP\",\n      \"properties\": {\n        \"dtype\": \"category\",\n        \"num_unique_values\": 1,\n        \"samples\": [\n          \"NORMAL\"\n        ],\n        \"semantic_type\": \"\",\n        \"description\": \"\"\n      }\n    },\n    {\n      \"column\": \"Cholesterol\",\n      \"properties\": {\n        \"dtype\": \"category\",\n        \"num_unique_values\": 1,\n        \"samples\": [\n          \"HIGH\"\n        ],\n        \"semantic_type\": \"\",\n        \"description\": \"\"\n      }\n    },\n    {\n      \"column\": \"Na_to_K\",\n      \"properties\": {\n        \"dtype\": \"number\",\n        \"std\": 2.6296616385636638,\n        \"min\": 7.798,\n        \"max\": 12.703,\n        \"num_unique_values\": 3,\n        \"samples\": [\n          7.798\n        ],\n        \"semantic_type\": \"\",\n        \"description\": \"\"\n      }\n    },\n    {\n      \"column\": \"Drug\",\n      \"properties\": {\n        \"dtype\": \"category\",\n        \"num_unique_values\": 1,\n        \"samples\": [\n          \"drugX\"\n        ],\n        \"semantic_type\": \"\",\n        \"description\": \"\"\n      }\n    }\n  ]\n}"
            }
          },
          "metadata": {},
          "execution_count": 25
        }
      ]
    },
    {
      "cell_type": "code",
      "source": [
        "dataframe = pd.DataFrame()\n",
        "for data in ls:\n",
        "  dataframe = pd.concat([dataframe, data])\n",
        "  dataframe['Drug'].unique()\n"
      ],
      "metadata": {
        "id": "NE9JXgfhDnUV"
      },
      "execution_count": null,
      "outputs": []
    },
    {
      "cell_type": "code",
      "source": [
        "dataframe['Age'].max(), dataframe['Age'].min(),\n",
        "dataframe['Age'].mean(), dataframe['Age'].median()"
      ],
      "metadata": {
        "colab": {
          "base_uri": "https://localhost:8080/"
        },
        "id": "x42In9IQGWwI",
        "outputId": "a29efaf5-5093-44e6-b6f1-2c49629d83f8"
      },
      "execution_count": null,
      "outputs": [
        {
          "output_type": "execute_result",
          "data": {
            "text/plain": [
              "(44.315, 45.0)"
            ]
          },
          "metadata": {},
          "execution_count": 27
        }
      ]
    },
    {
      "cell_type": "code",
      "source": [
        "print(dataframe.dtypes)\n",
        "\n",
        "from sklearn.preprocessing import LabelEncoder\n",
        "\n",
        "encoding_dict = {}\n",
        "\n",
        "for cols in dataframe.columns:\n",
        "  if dataframe[cols].dtype == object:\n",
        "    obj = LabelEncoder()\n",
        "    dataframe[cols] = obj.fit_transform(dataframe[cols])\n",
        "    encoding_dict[cols] = obj\n",
        "  encoding_dict"
      ],
      "metadata": {
        "colab": {
          "base_uri": "https://localhost:8080/"
        },
        "id": "L1MRpqHjGXpH",
        "outputId": "e6d42d75-761e-4ff5-d6b9-c2c3b7fd68fe"
      },
      "execution_count": null,
      "outputs": [
        {
          "output_type": "stream",
          "name": "stdout",
          "text": [
            "Age              int64\n",
            "Sex             object\n",
            "BP              object\n",
            "Cholesterol     object\n",
            "Na_to_K        float64\n",
            "Drug            object\n",
            "dtype: object\n"
          ]
        }
      ]
    },
    {
      "cell_type": "code",
      "source": [
        "#Visualize Correlation Matrix\n",
        "sns.heatmap(dataframe.corr(), annot=True)\n",
        "#Data Preprocessing for Model Training\n",
        "dataframe.drop(columns=['Age'], inplace=True)\n",
        "X = dataframe.drop(columns=['Drug'])\n",
        "Y = dataframe['Drug']\n",
        "#Train-Test Split\n",
        "from sklearn.model_selection import train_test_split\n",
        "xtrain, xtest, ytrain, ytest = train_test_split(X, Y, test_size=0.1, random_state=9, stratify=Y)\n",
        "#Train SVM Model\n",
        "from sklearn.svm import SVC\n",
        "model = SVC()\n",
        "model.fit(xtrain, ytrain)\n",
        "pred = model.predict(xtest)\n",
        "#Predict New Data\n",
        "output = model.predict(np.array([[0, 0, 0, 11.262]]))\n",
        "print(output)\n",
        "encoding_dict['Drug'].inverse_transform(output)"
      ],
      "metadata": {
        "colab": {
          "base_uri": "https://localhost:8080/",
          "height": 593
        },
        "id": "1BZvS4XLGjxG",
        "outputId": "0ef38c84-5ab7-463f-bb14-d9b30d9572f1"
      },
      "execution_count": null,
      "outputs": [
        {
          "output_type": "stream",
          "name": "stdout",
          "text": [
            "[4]\n"
          ]
        },
        {
          "output_type": "stream",
          "name": "stderr",
          "text": [
            "/usr/local/lib/python3.10/dist-packages/sklearn/base.py:493: UserWarning: X does not have valid feature names, but SVC was fitted with feature names\n",
            "  warnings.warn(\n"
          ]
        },
        {
          "output_type": "execute_result",
          "data": {
            "text/plain": [
              "array(['drugX'], dtype=object)"
            ]
          },
          "metadata": {},
          "execution_count": 29
        },
        {
          "output_type": "display_data",
          "data": {
            "text/plain": [
              "<Figure size 640x480 with 2 Axes>"
            ],
            "image/png": "[encoded data removed]"
          },
          "metadata": {}
        }
      ]
    },
    {
      "cell_type": "code",
      "source": [
        "#Evaluate Model Performance\n",
        "\n",
        "from sklearn.metrics import precision_recall_fscore_support, classification_report\n",
        "\n",
        "precision, recall, fscore, support = precision_recall_fscore_support(ytest, pred)\n",
        "\n",
        "#Detailed Performance Report\n",
        "\n",
        "for class_label, p, r, f, s in zip(range(len(precision)), precision, recall, fscore, support):\n",
        "  print(f\"Class: {class_label}\")\n",
        "  print(f\"Precision: {p:.3f}\")\n",
        "  print(f\"Recall: {r:.3f}\")\n",
        "  print(f\"F1-score: {f:.3f}\")\n",
        "  print(f\"Support: {s}\\n\")\n",
        "print(\"Confusion Matrix:\\n\", confusion_matrix(ytest,pred))\n",
        "#Generate Classification Report\n",
        "\n",
        "print(classification_report(ytest, pred))\n",
        "\n",
        "plt.show()"
      ],
      "metadata": {
        "colab": {
          "base_uri": "https://localhost:8080/"
        },
        "id": "3jFb51nhGoU4",
        "outputId": "6f5e62b9-4e7c-47d8-c62b-9615ee4410c6"
      },
      "execution_count": null,
      "outputs": [
        {
          "output_type": "stream",
          "name": "stdout",
          "text": [
            "Class: 0\n",
            "Precision: 0.900\n",
            "Recall: 1.000\n",
            "F1-score: 0.947\n",
            "Support: 9\n",
            "\n",
            "Class: 1\n",
            "Precision: 0.000\n",
            "Recall: 0.000\n",
            "F1-score: 0.000\n",
            "Support: 2\n",
            "\n",
            "Class: 2\n",
            "Precision: 0.000\n",
            "Recall: 0.000\n",
            "F1-score: 0.000\n",
            "Support: 2\n",
            "\n",
            "Class: 3\n",
            "Precision: 0.000\n",
            "Recall: 0.000\n",
            "F1-score: 0.000\n",
            "Support: 2\n",
            "\n",
            "Class: 4\n",
            "Precision: 0.500\n",
            "Recall: 1.000\n",
            "F1-score: 0.667\n",
            "Support: 5\n",
            "\n",
            "Confusion Matrix:\n",
            " [[9 0 0 0 0]\n",
            " [0 0 0 0 2]\n",
            " [1 0 0 0 1]\n",
            " [0 0 0 0 2]\n",
            " [0 0 0 0 5]]\n",
            "              precision    recall  f1-score   support\n",
            "\n",
            "           0       0.90      1.00      0.95         9\n",
            "           1       0.00      0.00      0.00         2\n",
            "           2       0.00      0.00      0.00         2\n",
            "           3       0.00      0.00      0.00         2\n",
            "           4       0.50      1.00      0.67         5\n",
            "\n",
            "    accuracy                           0.70        20\n",
            "   macro avg       0.28      0.40      0.32        20\n",
            "weighted avg       0.53      0.70      0.59        20\n",
            "\n"
          ]
        },
        {
          "output_type": "stream",
          "name": "stderr",
          "text": [
            "/usr/local/lib/python3.10/dist-packages/sklearn/metrics/_classification.py:1531: UndefinedMetricWarning: Precision is ill-defined and being set to 0.0 in labels with no predicted samples. Use `zero_division` parameter to control this behavior.\n",
            "  _warn_prf(average, modifier, f\"{metric.capitalize()} is\", len(result))\n",
            "/usr/local/lib/python3.10/dist-packages/sklearn/metrics/_classification.py:1531: UndefinedMetricWarning: Precision is ill-defined and being set to 0.0 in labels with no predicted samples. Use `zero_division` parameter to control this behavior.\n",
            "  _warn_prf(average, modifier, f\"{metric.capitalize()} is\", len(result))\n",
            "/usr/local/lib/python3.10/dist-packages/sklearn/metrics/_classification.py:1531: UndefinedMetricWarning: Precision is ill-defined and being set to 0.0 in labels with no predicted samples. Use `zero_division` parameter to control this behavior.\n",
            "  _warn_prf(average, modifier, f\"{metric.capitalize()} is\", len(result))\n",
            "/usr/local/lib/python3.10/dist-packages/sklearn/metrics/_classification.py:1531: UndefinedMetricWarning: Precision is ill-defined and being set to 0.0 in labels with no predicted samples. Use `zero_division` parameter to control this behavior.\n",
            "  _warn_prf(average, modifier, f\"{metric.capitalize()} is\", len(result))\n"
          ]
        }
      ]
    },
    {
      "cell_type": "code",
      "source": [
        "# Import necessary libraries\n",
        "import numpy as np\n",
        "import pandas as pd\n",
        "import seaborn as sns\n",
        "from sklearn.datasets import load_diabetes\n",
        "from sklearn.model_selection import train_test_split\n",
        "from sklearn.svm import SVC\n",
        "from sklearn.metrics import classification_report, accuracy_score, confusion_matrix\n",
        "from sklearn.preprocessing import StandardScaler\n",
        "\n",
        "# Load the Pima Indians Diabetes Dataset from a CSV file\n",
        "# You can download this dataset from online sources like Kaggle if needed.\n",
        "data = pd.read_csv(\"https://raw.githubusercontent.com/jbrownlee/Datasets/master/pima-indians-diabetes.csv\", header=None)\n",
        "data.columns = ['Pregnancies', 'Glucose', 'BloodPressure', 'SkinThickness', 'Insulin', 'BMI', 'DiabetesPedigreeFunction', 'Age', 'Outcome']\n",
        "print(data['Outcome'].unique())\n",
        "print(data['Outcome'].value_counts())\n",
        "\n",
        "# Split features and target\n",
        "X = data.drop(\"Outcome\", axis=1)\n",
        "y = data[\"Outcome\"]\n",
        "\n",
        "# Visualize Correlation Matrix\n",
        "print('Correlation Matrix\\n')\n",
        "sns.heatmap(data.corr(), annot=True)\n",
        "\n"
      ],
      "metadata": {
        "id": "Frk5lSY3Hcj6",
        "colab": {
          "base_uri": "https://localhost:8080/",
          "height": 749
        },
        "outputId": "12d068e1-4e9f-4d83-848d-35e5e895486d"
      },
      "execution_count": null,
      "outputs": [
        {
          "output_type": "stream",
          "name": "stdout",
          "text": [
            "[1 0]\n",
            "Outcome\n",
            "0    500\n",
            "1    268\n",
            "Name: count, dtype: int64\n",
            "Correlation Matrix\n",
            "\n"
          ]
        },
        {
          "output_type": "execute_result",
          "data": {
            "text/plain": [
              "<Axes: >"
            ]
          },
          "metadata": {},
          "execution_count": 48
        },
        {
          "output_type": "display_data",
          "data": {
            "text/plain": [
              "<Figure size 640x480 with 2 Axes>"
            ],
            "image/png": "[encoded data removed]"
          },
          "metadata": {}
        }
      ]
    },
    {
      "cell_type": "code",
      "source": [
        "# Train-test split (80% training, 20% testing)\n",
        "X_train, X_test, y_train, y_test = train_test_split(X, y, test_size=0.2, random_state=42)\n",
        "\n",
        "# Standardize features for better performance with SVM\n",
        "scaler = StandardScaler()\n",
        "X_train = scaler.fit_transform(X_train)\n",
        "X_test = scaler.transform(X_test)\n",
        "\n",
        "# Initialize and train the SVM classifier with an RBF kernel\n",
        "svm = SVC(kernel='rbf', C=1.0, gamma='scale')  # You can experiment with C and gamma\n",
        "svm.fit(X_train, y_train)\n",
        "\n",
        "# New data sample for prediction (replace values with actual feature values)\n",
        "# [Pregnancies, Glucose, BloodPressure, SkinThickness, Insulin, BMI, DiabetesPedigreeFunction, Age]\n",
        "new_data = np.array([[2, 130, 80, 30, 85, 33.6, 0.627, 45]])\n",
        "\n",
        "# Preprocess the new data using the same scaler\n",
        "new_data_scaled = scaler.transform(new_data)\n",
        "\n",
        "# Predict using the trained model\n",
        "prediction = svm.predict(new_data_scaled)\n",
        "\n",
        "# Output the result\n",
        "print(\"Prediction (0 = No Diabetes, 1 = Diabetes):\", prediction[0])\n",
        "# Predict on test set\n",
        "y_pred = svm.predict(X_test)\n",
        "\n",
        "# Evaluate model performance\n",
        "print(\"\\nAccuracy:\", accuracy_score(y_test, y_pred))\n",
        "print(\"\\nClassification Report:\\n\", classification_report(y_test, y_pred))\n"
      ],
      "metadata": {
        "colab": {
          "base_uri": "https://localhost:8080/"
        },
        "id": "fGEcazmIYo-i",
        "outputId": "e86eb833-1224-4261-f4ab-1ca15eb70e89"
      },
      "execution_count": null,
      "outputs": [
        {
          "output_type": "stream",
          "name": "stdout",
          "text": [
            "Prediction (0 = No Diabetes, 1 = Diabetes): 1\n",
            "\n",
            "Accuracy: 0.7337662337662337\n",
            "\n",
            "Classification Report:\n",
            "               precision    recall  f1-score   support\n",
            "\n",
            "           0       0.77      0.83      0.80        99\n",
            "           1       0.65      0.56      0.60        55\n",
            "\n",
            "    accuracy                           0.73       154\n",
            "   macro avg       0.71      0.70      0.70       154\n",
            "weighted avg       0.73      0.73      0.73       154\n",
            "\n"
          ]
        },
        {
          "output_type": "stream",
          "name": "stderr",
          "text": [
            "/usr/local/lib/python3.10/dist-packages/sklearn/base.py:493: UserWarning: X does not have valid feature names, but StandardScaler was fitted with feature names\n",
            "  warnings.warn(\n"
          ]
        }
      ]
    },
    {
      "cell_type": "code",
      "source": [
        "# Import necessary libraries\n",
        "import numpy as np\n",
        "import pandas as pd\n",
        "import seaborn as sns\n",
        "from sklearn.model_selection import train_test_split\n",
        "from sklearn.svm import SVC\n",
        "from sklearn.metrics import accuracy_score, classification_report\n",
        "\n",
        "# Sample data creation: synthetic dataset with movie features and user preferences\n",
        "# Columns: ['Genre', 'Director', 'Actors', 'Popularity', 'User_Preference']\n",
        "# For simplicity, we'll use numerical representations for categorical data.\n",
        "data = pd.DataFrame({\n",
        "    'Genre': [1, 2, 3, 1, 2, 3, 1, 2, 3, 2],    # Example genres represented numerically\n",
        "    'Director': [1, 1, 2, 2, 3, 3, 1, 2, 3, 1],  # Director IDs\n",
        "    'Actors': [1, 2, 1, 3, 2, 1, 2, 3, 1, 2],    # Lead actor IDs\n",
        "    'Popularity': [7, 5, 6, 8, 6, 7, 5, 9, 7, 8], # Popularity rating\n",
        "    'User_Preference': [1, 0, 1, 1, 0, 0, 1, 1, 0, 1] # User likes (1) or dislikes (0)\n",
        "})\n",
        "\n",
        "# Split features and target\n",
        "X = data.drop('User_Preference', axis=1)\n",
        "y = data['User_Preference']\n",
        "\n",
        "# Train-test split\n",
        "X_train, X_test, y_train, y_test = train_test_split(X, y, test_size=0.2, random_state=42)\n",
        "\n",
        "# Initialize and train the SVM classifier\n",
        "svm = SVC(kernel='linear', C=1.0)\n",
        "svm.fit(X_train, y_train)\n",
        "\n",
        "# Predict on test set\n",
        "y_pred = svm.predict(X_test)\n",
        "\n",
        "# Evaluate model performance\n",
        "print(\"Accuracy:\", accuracy_score(y_test, y_pred))\n",
        "print(\"Classification Report:\\n\", classification_report(y_test, y_pred))\n",
        "\n",
        "# Predict on new movies to recommend those the user would likely enjoy\n",
        "new_movies = pd.DataFrame({\n",
        "    'Genre': [1, 2, 3],\n",
        "    'Director': [2, 3, 1],\n",
        "    'Actors': [3, 1, 2],\n",
        "    'Popularity': [6, 7, 9]\n",
        "})\n",
        "# Visualize Correlation Matrix\n",
        "print('Correlation Matrix\\n')\n",
        "sns.heatmap(data.corr(), annot=True)\n",
        "\n",
        "# Predict the user's preference for new movies\n",
        "recommendations = svm.predict(new_movies)\n",
        "\n",
        "# Output recommended movies\n",
        "recommended_movies = new_movies[recommendations == 1]\n",
        "print(\"Recommended Movies:\\n\", recommended_movies)\n"
      ],
      "metadata": {
        "id": "yGMo9qyFcQ6C",
        "colab": {
          "base_uri": "https://localhost:8080/",
          "height": 970
        },
        "outputId": "18a4b683-429c-48f5-8715-1ea9f84b81fb"
      },
      "execution_count": null,
      "outputs": [
        {
          "output_type": "stream",
          "name": "stdout",
          "text": [
            "Accuracy: 0.5\n",
            "Classification Report:\n",
            "               precision    recall  f1-score   support\n",
            "\n",
            "           0       1.00      0.50      0.67         2\n",
            "           1       0.00      0.00      0.00         0\n",
            "\n",
            "    accuracy                           0.50         2\n",
            "   macro avg       0.50      0.25      0.33         2\n",
            "weighted avg       1.00      0.50      0.67         2\n",
            "\n",
            "Correlation Matrix\n",
            "\n"
          ]
        },
        {
          "output_type": "stream",
          "name": "stderr",
          "text": [
            "/usr/local/lib/python3.10/dist-packages/sklearn/metrics/_classification.py:1531: UndefinedMetricWarning: Recall is ill-defined and being set to 0.0 in labels with no true samples. Use `zero_division` parameter to control this behavior.\n",
            "  _warn_prf(average, modifier, f\"{metric.capitalize()} is\", len(result))\n",
            "/usr/local/lib/python3.10/dist-packages/sklearn/metrics/_classification.py:1531: UndefinedMetricWarning: Recall is ill-defined and being set to 0.0 in labels with no true samples. Use `zero_division` parameter to control this behavior.\n",
            "  _warn_prf(average, modifier, f\"{metric.capitalize()} is\", len(result))\n",
            "/usr/local/lib/python3.10/dist-packages/sklearn/metrics/_classification.py:1531: UndefinedMetricWarning: Recall is ill-defined and being set to 0.0 in labels with no true samples. Use `zero_division` parameter to control this behavior.\n",
            "  _warn_prf(average, modifier, f\"{metric.capitalize()} is\", len(result))\n"
          ]
        },
        {
          "output_type": "stream",
          "name": "stdout",
          "text": [
            "Recommended Movies:\n",
            "    Genre  Director  Actors  Popularity\n",
            "0      1         2       3           6\n",
            "2      3         1       2           9\n"
          ]
        },
        {
          "output_type": "display_data",
          "data": {
            "text/plain": [
              "<Figure size 640x480 with 2 Axes>"
            ],
            "image/png": "[encoded data removed]"
          },
          "metadata": {}
        }
      ]
    },
    {
      "cell_type": "code",
      "source": [
        "# Import libraries\n",
        "import numpy as np\n",
        "import pandas as pd\n",
        "import matplotlib.pyplot as plt\n",
        "import seaborn as sns\n",
        "from sklearn.datasets import fetch_openml\n",
        "from sklearn.model_selection import train_test_split\n",
        "from sklearn.svm import LinearSVC\n",
        "from sklearn.metrics import classification_report, accuracy_score\n",
        "from sklearn.preprocessing import StandardScaler\n",
        "from sklearn.decomposition import PCA\n",
        "\n",
        "# Load the MNIST dataset\n",
        "mnist = fetch_openml('mnist_784', version=1)\n",
        "X, y = mnist['data'], mnist['target']\n",
        "\n",
        "# Convert target labels to integer format\n",
        "y = y.astype(np.uint8)\n",
        "\n",
        "#  Use only a subset of data for faster computation (optional)\n",
        "# X_sample, _, y_sample, _ = train_test_split(X, y, train_size=10000, random_state=42)\n",
        "\n",
        "# Scale the data for better performance with SVM\n",
        "scaler = StandardScaler()\n",
        "X_sample_scaled = scaler.fit_transform(X)\n",
        "\n",
        "# Apply PCA to reduce dimensionality\n",
        "pca = PCA(n_components=50)  # Reduce to 50 components\n",
        "X_pca = pca.fit_transform(X_sample_scaled)\n",
        "\n",
        "# Train-test split\n",
        "X_train, X_test, y_train, y_test = train_test_split(X_pca, y, test_size=0.2, random_state=42)\n",
        "\n",
        "# Initialize and train the SVM model (using LinearSVC for faster training)\n",
        "svm = LinearSVC(C=1.0, max_iter=10000)  # Increase max_iter to ensure convergence\n",
        "svm.fit(X_train, y_train)\n",
        "\n",
        "# Predict on the test set\n",
        "y_pred = svm.predict(X_test)\n",
        "\n",
        "correlation_matrix = pd.DataFrame(X_pca).corr()\n",
        "\n",
        "# Plot the correlation matrix\n",
        "# plt.figure(figsize=(12, 10))\n",
        "# sns.heatmap(correlation_matrix, annot=False, cmap='coolwarm', fmt='.2f')\n",
        "# plt.title(\"Correlation Matrix of PCA Components\")\n",
        "# plt.show()\n",
        "\n",
        "# Evaluate the model\n",
        "print(\"Accuracy:\", accuracy_score(y_test, y_pred))\n",
        "print(\"Classification Report:\\n\", classification_report(y_test, y_pred))\n",
        "\n",
        "# Fetch a new set of samples from MNIST (different from your training sample)\n",
        "_, X_new, _, y_new = train_test_split(X, y, train_size=5, random_state=100)\n",
        "\n",
        "# Scale and apply PCA\n",
        "X_new_scaled = scaler.transform(X_new)\n",
        "X_new_pca = pca.transform(X_new_scaled)\n",
        "\n",
        "# Predict\n",
        "new_predictions = svm.predict(X_new_pca)\n",
        "print(\"Predicted labels for MNIST test data:\", new_predictions)\n",
        "print(\"Actual labels:\", y_new[:5].values)  # Compare to actual labels if desired\n",
        "\n",
        "# Generate 5 new random samples in the same format as MNIST\n",
        "new_data = np.random.rand(5, 784) * 255  # Pixel values are between 0 and 255\n",
        "\n",
        "# Convert to the same format (optional scaling and PCA)\n",
        "new_data_scaled = scaler.transform(new_data)\n",
        "new_data_pca = pca.transform(new_data_scaled)\n",
        "\n",
        "# Predict using the trained model\n",
        "new_predictions = svm.predict(new_data_pca)\n",
        "print(\"Predicted labels for synthetic new data:\", new_predictions)\n",
        "\n"
      ],
      "metadata": {
        "id": "mVmcNXL1pjwt",
        "colab": {
          "base_uri": "https://localhost:8080/"
        },
        "outputId": "6299864f-5f88-4a66-c33a-1a20aa8e7e85"
      },
      "execution_count": null,
      "outputs": [
        {
          "output_type": "stream",
          "name": "stdout",
          "text": [
            "Accuracy: 0.8924285714285715\n",
            "Classification Report:\n",
            "               precision    recall  f1-score   support\n",
            "\n",
            "           0       0.95      0.96      0.95      1343\n",
            "           1       0.93      0.97      0.95      1600\n",
            "           2       0.88      0.87      0.88      1380\n",
            "           3       0.86      0.86      0.86      1433\n",
            "           4       0.88      0.90      0.89      1295\n",
            "           5       0.85      0.81      0.83      1273\n",
            "           6       0.93      0.95      0.94      1396\n",
            "           7       0.91      0.92      0.91      1503\n",
            "           8       0.86      0.80      0.83      1357\n",
            "           9       0.86      0.85      0.86      1420\n",
            "\n",
            "    accuracy                           0.89     14000\n",
            "   macro avg       0.89      0.89      0.89     14000\n",
            "weighted avg       0.89      0.89      0.89     14000\n",
            "\n",
            "Predicted labels for MNIST test data: [3 1 6 ... 0 7 0]\n",
            "Actual labels: [3 1 6 7 9]\n",
            "Predicted labels for synthetic new data: [7 7 7 4 5]\n"
          ]
        },
        {
          "output_type": "stream",
          "name": "stderr",
          "text": [
            "/usr/local/lib/python3.10/dist-packages/sklearn/base.py:493: UserWarning: X does not have valid feature names, but StandardScaler was fitted with feature names\n",
            "  warnings.warn(\n"
          ]
        }
      ]
    },
    {
      "cell_type": "code",
      "source": [
        "# Import libraries\n",
        "import numpy as np\n",
        "import pandas as pd\n",
        "import matplotlib.pyplot as plt\n",
        "import seaborn as sns\n",
        "from sklearn.datasets import fetch_openml\n",
        "from sklearn.model_selection import train_test_split\n",
        "from sklearn.svm import LinearSVC\n",
        "from sklearn.metrics import classification_report, accuracy_score\n",
        "from sklearn.preprocessing import StandardScaler\n",
        "from sklearn.decomposition import PCA\n",
        "\n",
        "# Load the MNIST dataset\n",
        "mnist = fetch_openml('mnist_784', version=1)\n",
        "X, y = mnist['data'], mnist['target']\n",
        "\n",
        "# Convert target labels to integer format\n",
        "y = y.astype(np.uint8)\n",
        "\n",
        "# Use only a subset of data for faster computation\n",
        "X_sample, _, y_sample, _ = train_test_split(X, y, train_size=10000, random_state=42)\n",
        "\n",
        "# Scale the data for better performance with SVM\n",
        "scaler = StandardScaler()\n",
        "X_sample_scaled = scaler.fit_transform(X_sample)\n",
        "\n",
        "# Apply PCA to reduce dimensionality\n",
        "pca = PCA(n_components=100)  # Reduce to 50 components\n",
        "X_pca = pca.fit_transform(X_sample_scaled)\n",
        "\n",
        "# Train-test split\n",
        "X_train, X_test, y_train, y_test = train_test_split(X_pca, y_sample, test_size=0.2, random_state=42)\n",
        "\n",
        "# Initialize and train the SVM model (using LinearSVC for faster training)\n",
        "svm = LinearSVC(C=1.0, max_iter=10000)\n",
        "svm.fit(X_train, y_train)\n",
        "\n",
        "# Predict on the test set\n",
        "y_pred = svm.predict(X_test)\n",
        "\n",
        "# correlation_matrix = pd.DataFrame(X_pca).corr()\n",
        "\n",
        "# Plot the correlation matrix\n",
        "# plt.figure(figsize=(12, 10))\n",
        "# sns.heatmap(correlation_matrix, annot=False, cmap='coolwarm', fmt='.2f')\n",
        "# plt.title(\"Correlation Matrix of PCA Components\")\n",
        "# plt.show()\n",
        "\n",
        "# Evaluate the model\n",
        "print(\"Accuracy:\", accuracy_score(y_test, y_pred))\n",
        "print(\"Classification Report:\\n\", classification_report(y_test, y_pred))\n"
      ],
      "metadata": {
        "colab": {
          "base_uri": "https://localhost:8080/"
        },
        "id": "3l4JaSBJXZGt",
        "outputId": "b2507f80-bd3d-4f17-96f5-eeb0e408627c"
      },
      "execution_count": null,
      "outputs": [
        {
          "output_type": "stream",
          "name": "stdout",
          "text": [
            "Accuracy: 0.9005\n",
            "Classification Report:\n",
            "               precision    recall  f1-score   support\n",
            "\n",
            "           0       0.94      0.96      0.95       193\n",
            "           1       0.93      0.97      0.95       243\n",
            "           2       0.90      0.89      0.89       190\n",
            "           3       0.84      0.89      0.87       182\n",
            "           4       0.91      0.94      0.92       187\n",
            "           5       0.91      0.82      0.86       190\n",
            "           6       0.99      0.92      0.95       221\n",
            "           7       0.90      0.88      0.89       208\n",
            "           8       0.85      0.84      0.85       197\n",
            "           9       0.83      0.87      0.85       189\n",
            "\n",
            "    accuracy                           0.90      2000\n",
            "   macro avg       0.90      0.90      0.90      2000\n",
            "weighted avg       0.90      0.90      0.90      2000\n",
            "\n"
          ]
        }
      ]
    },
    {
      "cell_type": "code",
      "source": [
        "# Fetch a new set of samples from MNIST (different from your training sample)\n",
        "_, X_new, _, y_new = train_test_split(X, y, train_size=5, random_state=100)\n",
        "\n",
        "# Scale and apply PCA\n",
        "X_new_scaled = scaler.transform(X_new)\n",
        "X_new_pca = pca.transform(X_new_scaled)\n",
        "\n",
        "# Predict\n",
        "new_predictions = svm.predict(X_new_pca)\n",
        "print(\"Predicted labels for MNIST test data:\", new_predictions)\n",
        "print(\"Actual labels:\", y_new[:5].values)  # Compare to actual labels if desired\n"
      ],
      "metadata": {
        "colab": {
          "base_uri": "https://localhost:8080/"
        },
        "id": "nQO0ibWyefLj",
        "outputId": "3af435c9-9583-4805-ea88-8ec64d0140f5"
      },
      "execution_count": null,
      "outputs": [
        {
          "output_type": "stream",
          "name": "stdout",
          "text": [
            "Predicted labels for MNIST test data: [3 1 6 ... 0 7 0]\n",
            "Actual labels: [3 1 6 7 9]\n"
          ]
        }
      ]
    },
    {
      "cell_type": "code",
      "source": [
        "import numpy as np\n",
        "import pandas as pd\n",
        "# Combine both datasets\n",
        "combined_data = np.vstack((X_sample, X_new))\n",
        "combined_labels = np.concatenate((y_sample, y_new))\n",
        "\n",
        "# Check for duplicates\n",
        "unique_data, unique_indices = np.unique(combined_data, axis=0, return_index=True)\n",
        "\n",
        "# Count duplicates\n",
        "duplicates_count = combined_data.shape[0] - unique_indices.size\n",
        "print(f\"Number of duplicate samples: {duplicates_count}\")\n",
        "\n",
        "# Check the unique labels for both samples\n",
        "print(\"Unique labels in X_sample:\", np.unique(y_sample))\n",
        "print(\"Unique labels in X_new:\", np.unique(y_new))\n"
      ],
      "metadata": {
        "colab": {
          "base_uri": "https://localhost:8080/"
        },
        "id": "0Hsd48CmxrB6",
        "outputId": "bce4cb63-95fd-40ee-8735-031a407d2d34"
      },
      "execution_count": null,
      "outputs": [
        {
          "output_type": "stream",
          "name": "stdout",
          "text": [
            "Number of duplicate samples: 9998\n",
            "Unique labels in X_sample: [0 1 2 3 4 5 6 7 8 9]\n",
            "Unique labels in X_new: [0 1 2 3 4 5 6 7 8 9]\n"
          ]
        }
      ]
    },
    {
      "cell_type": "code",
      "source": [
        "# Import necessary libraries\n",
        "import numpy as np\n",
        "import pandas as pd\n",
        "import seaborn as sns\n",
        "from sklearn.model_selection import train_test_split\n",
        "from sklearn.svm import SVC\n",
        "from sklearn.metrics import accuracy_score, classification_report\n",
        "\n",
        "# Sample data creation: synthetic dataset with movie features and user preferences\n",
        "# Columns: ['Genre', 'Director', 'Actors', 'Popularity', 'User_Preference']\n",
        "# For simplicity, we'll use numerical representations for categorical data.\n",
        "data = pd.DataFrame({\n",
        "    'Genre': [1, 2, 3, 1, 2, 3, 1, 2, 3, 2],    # Example genres represented numerically\n",
        "    'Director': [1, 1, 2, 2, 3, 3, 1, 2, 3, 1],  # Director IDs\n",
        "    'Actors': [1, 2, 1, 3, 2, 1, 2, 3, 1, 2],    # Lead actor IDs\n",
        "    'Popularity': [7, 5, 6, 8, 6, 7, 5, 9, 7, 8], # Popularity rating\n",
        "    'User_Preference': [1, 0, 1, 1, 0, 0, 1, 1, 0, 1] # User likes (1) or dislikes (0)\n",
        "})\n",
        "\n",
        "# Split features and target\n",
        "X = data.drop('User_Preference', axis=1)\n",
        "y = data['User_Preference']\n",
        "\n",
        "# Train-test split\n",
        "X_train, X_test, y_train, y_test = train_test_split(X, y, test_size=0.2, random_state=42)\n",
        "\n",
        "# Initialize and train the SVM classifier\n",
        "svm = SVC(kernel='linear', C=1.0)\n",
        "svm.fit(X_train, y_train)\n",
        "\n",
        "# Predict on test set\n",
        "y_pred = svm.predict(X_test)\n",
        "\n",
        "# Evaluate model performance\n",
        "print(\"Accuracy:\", accuracy_score(y_test, y_pred))\n",
        "print(\"Classification Report:\\n\", classification_report(y_test, y_pred))\n",
        "\n",
        "# Predict on new movies to recommend those the user would likely enjoy\n",
        "new_movies = pd.DataFrame({\n",
        "    'Genre': [1, 2, 3],\n",
        "    'Director': [2, 3, 1],\n",
        "    'Actors': [3, 1, 2],\n",
        "    'Popularity': [6, 7, 9]\n",
        "})\n",
        "# Visualize Correlation Matrix\n",
        "print('Correlation Matrix\\n')\n",
        "sns.heatmap(data.corr(), annot=True)\n",
        "\n",
        "# Predict the user's preference for new movies\n",
        "recommendations = svm.predict(new_movies)\n",
        "\n",
        "# Output recommended movies\n",
        "recommended_movies = new_movies[recommendations == 1]\n",
        "print(\"Recommended Movies:\\n\", recommended_movies)\n"
      ],
      "metadata": {
        "id": "QM2F1xg_wTPU"
      },
      "execution_count": null,
      "outputs": []
    },
    {
      "cell_type": "code",
      "source": [
        "import pandas as pd\n",
        "data=pd.read_csv('movies_metadata.csv')\n",
        "print(data.head())"
      ],
      "metadata": {
        "colab": {
          "base_uri": "https://localhost:8080/"
        },
        "id": "DgASpdgew8JZ",
        "outputId": "ddeb4490-f06a-4eef-cfd7-06547529c218"
      },
      "execution_count": null,
      "outputs": [
        {
          "output_type": "stream",
          "name": "stdout",
          "text": [
            "   adult                              belongs_to_collection    budget  \\\n",
            "0  False  {'id': 10194, 'name': 'Toy Story Collection', ...  30000000   \n",
            "1  False                                                NaN  65000000   \n",
            "2  False  {'id': 119050, 'name': 'Grumpy Old Men Collect...         0   \n",
            "3  False                                                NaN  16000000   \n",
            "4  False  {'id': 96871, 'name': 'Father of the Bride Col...         0   \n",
            "\n",
            "                                              genres  \\\n",
            "0  [{'id': 16, 'name': 'Animation'}, {'id': 35, '...   \n",
            "1  [{'id': 12, 'name': 'Adventure'}, {'id': 14, '...   \n",
            "2  [{'id': 10749, 'name': 'Romance'}, {'id': 35, ...   \n",
            "3  [{'id': 35, 'name': 'Comedy'}, {'id': 18, 'nam...   \n",
            "4                     [{'id': 35, 'name': 'Comedy'}]   \n",
            "\n",
            "                               homepage     id    imdb_id original_language  \\\n",
            "0  http://toystory.disney.com/toy-story    862  tt0114709                en   \n",
            "1                                   NaN   8844  tt0113497                en   \n",
            "2                                   NaN  15602  tt0113228                en   \n",
            "3                                   NaN  31357  tt0114885                en   \n",
            "4                                   NaN  11862  tt0113041                en   \n",
            "\n",
            "                original_title  \\\n",
            "0                    Toy Story   \n",
            "1                      Jumanji   \n",
            "2             Grumpier Old Men   \n",
            "3            Waiting to Exhale   \n",
            "4  Father of the Bride Part II   \n",
            "\n",
            "                                            overview  ... release_date  \\\n",
            "0  Led by Woody, Andy's toys live happily in his ...  ...   1995-10-30   \n",
            "1  When siblings Judy and Peter discover an encha...  ...   1995-12-15   \n",
            "2  A family wedding reignites the ancient feud be...  ...   1995-12-22   \n",
            "3  Cheated on, mistreated and stepped on, the wom...  ...   1995-12-22   \n",
            "4  Just when George Banks has recovered from his ...  ...   1995-02-10   \n",
            "\n",
            "       revenue runtime                                   spoken_languages  \\\n",
            "0  373554033.0    81.0           [{'iso_639_1': 'en', 'name': 'English'}]   \n",
            "1  262797249.0   104.0  [{'iso_639_1': 'en', 'name': 'English'}, {'iso...   \n",
            "2          0.0   101.0           [{'iso_639_1': 'en', 'name': 'English'}]   \n",
            "3   81452156.0   127.0           [{'iso_639_1': 'en', 'name': 'English'}]   \n",
            "4   76578911.0   106.0           [{'iso_639_1': 'en', 'name': 'English'}]   \n",
            "\n",
            "     status                                            tagline  \\\n",
            "0  Released                                                NaN   \n",
            "1  Released          Roll the dice and unleash the excitement!   \n",
            "2  Released  Still Yelling. Still Fighting. Still Ready for...   \n",
            "3  Released  Friends are the people who let you be yourself...   \n",
            "4  Released  Just When His World Is Back To Normal... He's ...   \n",
            "\n",
            "                         title  video vote_average vote_count  \n",
            "0                    Toy Story  False          7.7     5415.0  \n",
            "1                      Jumanji  False          6.9     2413.0  \n",
            "2             Grumpier Old Men  False          6.5       92.0  \n",
            "3            Waiting to Exhale  False          6.1       34.0  \n",
            "4  Father of the Bride Part II  False          5.7      173.0  \n",
            "\n",
            "[5 rows x 24 columns]\n"
          ]
        },
        {
          "output_type": "stream",
          "name": "stderr",
          "text": [
            "<ipython-input-6-c71e74e406c6>:2: DtypeWarning: Columns (10) have mixed types. Specify dtype option on import or set low_memory=False.\n",
            "  data=pd.read_csv('movies_metadata.csv')\n"
          ]
        }
      ]
    },
    {
      "cell_type": "code",
      "source": [
        "\n",
        "import pandas as pd\n",
        "from sklearn.model_selection import train_test_split\n",
        "from sklearn.svm import SVC\n",
        "from sklearn.metrics import classification_report, accuracy_score\n",
        "from sklearn.preprocessing import MultiLabelBinarizer\n",
        "import ast\n",
        "\n",
        "# Load the movies metadata and ratings datasets\n",
        "movies = pd.read_csv('movies_metadata.csv', low_memory=False)\n",
        "ratings = pd.read_csv('ratings_small.csv')\n",
        "\n",
        "# Step 1: Data Preprocessing for Movies Metadata\n",
        "# Extract genres from JSON-like strings in movies metadata\n",
        "def extract_genres(genre_str):\n",
        "    try:\n",
        "        genres = ast.literal_eval(genre_str)\n",
        "        return [genre['name'] for genre in genres]\n",
        "    except:\n",
        "        return []\n",
        "\n",
        "# Apply function to the genres column\n",
        "movies['genres'] = movies['genres'].apply(extract_genres)\n",
        "\n",
        "# Select relevant features and encode genres\n",
        "movies = movies[['id', 'genres', 'vote_average', 'popularity']].dropna()\n",
        "movies['id'] = pd.to_numeric(movies['id'], errors='coerce')\n",
        "movies.dropna(subset=['id'], inplace=True)\n",
        "movies['id'] = movies['id'].astype(int)\n",
        "\n",
        "# One-hot encode genres using MultiLabelBinarizer\n",
        "mlb = MultiLabelBinarizer()\n",
        "genre_encoded = mlb.fit_transform(movies['genres'])\n",
        "genre_df = pd.DataFrame(genre_encoded, columns=mlb.classes_)\n",
        "movies = pd.concat([movies.reset_index(drop=True), genre_df], axis=1).drop(columns=['genres'])\n",
        "\n",
        "# Step 2: Aggregating Ratings for Movie Recommendation Labels\n",
        "ratings_summary = ratings.groupby('movieId')['rating'].mean().reset_index()\n",
        "ratings_summary['recommended'] = ratings_summary['rating'].apply(lambda x: 1 if x >= 3.5 else 0)\n",
        "\n",
        "# Merge movies and ratings data based on movie ID\n",
        "merged_data = pd.merge(movies, ratings_summary, left_on='id', right_on='movieId', how='inner')\n",
        "merged_data = merged_data.drop(columns=['movieId', 'rating'])\n",
        "\n",
        "# Step 3: Split the data into training and testing sets\n",
        "X = merged_data.drop(columns=['recommended'])\n",
        "y = merged_data['recommended']\n",
        "X_train, X_test, y_train, y_test = train_test_split(X, y, test_size=0.2, random_state=42)\n",
        "\n",
        "# Step 4: Train the SVM model\n",
        "model = SVC(kernel='linear', class_weight='balanced')\n",
        "model.fit(X_train, y_train)\n",
        "\n",
        "# Step 5: Make predictions\n",
        "y_pred = model.predict(X_test)\n",
        "\n",
        "# Step 6: Evaluate the model\n",
        "print(\"Accuracy:\", accuracy_score(y_test, y_pred))\n",
        "print(classification_report(y_test, y_pred))\n"
      ],
      "metadata": {
        "colab": {
          "base_uri": "https://localhost:8080/"
        },
        "id": "bJJiImRVxPNv",
        "outputId": "04616c9c-9514-459e-aa6d-b73b7da3917d"
      },
      "execution_count": null,
      "outputs": [
        {
          "output_type": "stream",
          "name": "stdout",
          "text": [
            "Accuracy: 0.5326278659611993\n",
            "              precision    recall  f1-score   support\n",
            "\n",
            "           0       0.50      0.31      0.38       265\n",
            "           1       0.55      0.73      0.63       302\n",
            "\n",
            "    accuracy                           0.53       567\n",
            "   macro avg       0.52      0.52      0.50       567\n",
            "weighted avg       0.52      0.53      0.51       567\n",
            "\n"
          ]
        }
      ]
    },
    {
      "cell_type": "code",
      "source": [],
      "metadata": {
        "id": "GOszRePx5TIo"
      },
      "execution_count": null,
      "outputs": []
    }
  ]
}