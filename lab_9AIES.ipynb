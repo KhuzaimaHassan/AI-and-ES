{
  "nbformat": 4,
  "nbformat_minor": 0,
  "metadata": {
    "colab": {
      "provenance": [],
      "authorship_tag": "ABX9TyPaELC5LIeLewZAMRbyI+um",
      "include_colab_link": true
    },
    "kernelspec": {
      "name": "python3",
      "display_name": "Python 3"
    },
    "language_info": {
      "name": "python"
    }
  },
  "cells": [
    {
      "cell_type": "markdown",
      "metadata": {
        "id": "view-in-github",
        "colab_type": "text"
      },
      "source": [
        "<a href=\"https://colab.research.google.com/github/KhuzaimaHassan/AI-and-ES/blob/main/lab_9AIES.ipynb\" target=\"_parent\"><img src=\"https://colab.research.google.com/assets/colab-badge.svg\" alt=\"Open In Colab\"/></a>"
      ]
    },
    {
      "cell_type": "code",
      "execution_count": null,
      "metadata": {
        "colab": {
          "base_uri": "https://localhost:8080/"
        },
        "id": "AAMcSRPsGU4T",
        "outputId": "72fba16b-e064-45d2-f8cd-612034996563"
      },
      "outputs": [
        {
          "output_type": "stream",
          "name": "stderr",
          "text": [
            "[nltk_data] Downloading package punkt to /root/nltk_data...\n",
            "[nltk_data]   Unzipping tokenizers/punkt.zip.\n"
          ]
        },
        {
          "output_type": "execute_result",
          "data": {
            "text/plain": [
              "True"
            ]
          },
          "metadata": {},
          "execution_count": 1
        }
      ],
      "source": [
        "\n",
        "import nltk\n",
        "nltk.download('punkt')\n",
        "\n"
      ]
    },
    {
      "cell_type": "code",
      "source": [
        "from nltk.tokenize import sent_tokenize\n",
        "text=\"Hello, world! How's everything going? All good here\"\n",
        "sentences=sent_tokenize(text)\n",
        "print(sentences)\n",
        "\n"
      ],
      "metadata": {
        "colab": {
          "base_uri": "https://localhost:8080/"
        },
        "id": "0WX69Zz6IzWS",
        "outputId": "7164e618-ae47-4fed-ef2e-21313618219b"
      },
      "execution_count": null,
      "outputs": [
        {
          "output_type": "stream",
          "name": "stdout",
          "text": [
            "['Hello, world!', \"How's everything going?\", 'All good here']\n"
          ]
        }
      ]
    },
    {
      "cell_type": "code",
      "source": [
        "from nltk.tokenize import word_tokenize\n",
        "text=\"Hello, world! How's everything going? I can’t wait for the weekend.\"\n",
        "words=word_tokenize(text)\n",
        "print(words)\n"
      ],
      "metadata": {
        "id": "4l1DQi62JAlp",
        "outputId": "71eecb12-9261-4f82-bd73-e7e274459cc9",
        "colab": {
          "base_uri": "https://localhost:8080/"
        }
      },
      "execution_count": null,
      "outputs": [
        {
          "output_type": "stream",
          "name": "stdout",
          "text": [
            "['Hello', ',', 'world', '!', 'How', \"'s\", 'everything', 'going', '?', 'I', 'can', '’', 't', 'wait', 'for', 'the', 'weekend', '.']\n"
          ]
        }
      ]
    },
    {
      "cell_type": "code",
      "source": [
        "from nltk.tokenize import WordPunctTokenizer\n",
        "\n",
        "# Input text\n",
        "text = \"Tokenization is challenging.\"\n",
        "\n",
        "# Character Tokenization\n",
        "char_tokens = list(text.replace(\" \", \"\"))\n",
        "print(\"Character Tokens:\", char_tokens)\n",
        "\n",
        "# Subword Tokenization using WordPunctTokenizer\n",
        "tokenizer = WordPunctTokenizer()\n",
        "subword_tokens = tokenizer.tokenize(text)\n",
        "print(\"Subword Tokens:\", subword_tokens)\n"
      ],
      "metadata": {
        "colab": {
          "base_uri": "https://localhost:8080/"
        },
        "id": "yZdM6rf7ptJ5",
        "outputId": "5b3174ec-0603-41b3-9406-a04df3721660"
      },
      "execution_count": null,
      "outputs": [
        {
          "output_type": "stream",
          "name": "stdout",
          "text": [
            "Character Tokens: ['T', 'o', 'k', 'e', 'n', 'i', 'z', 'a', 't', 'i', 'o', 'n', 'i', 's', 'c', 'h', 'a', 'l', 'l', 'e', 'n', 'g', 'i', 'n', 'g', '.']\n",
            "Subword Tokens: ['Tokenization', 'is', 'challenging', '.']\n"
          ]
        }
      ]
    },
    {
      "cell_type": "code",
      "source": [
        "from transformers import AutoTokenizer\n",
        "\n",
        "# Load tokenizer (BERT tokenizer example)\n",
        "tokenizer = AutoTokenizer.from_pretrained(\"bert-base-uncased\")\n",
        "\n",
        "# Input text\n",
        "text = \"Tokenization is challenging.\"\n",
        "\n",
        "# Character Tokenization\n",
        "char_tokens = list(text.replace(\" \", \"\"))\n",
        "print(\"Character Tokens:\", char_tokens)\n",
        "\n",
        "# Subword Tokenization\n",
        "subword_tokens = tokenizer.tokenize(text)\n",
        "print(\"Subword Tokens:\", subword_tokens)\n"
      ],
      "metadata": {
        "colab": {
          "base_uri": "https://localhost:8080/"
        },
        "id": "ebFCkRUYqrdb",
        "outputId": "4e5e0be4-daa5-4ab8-c959-6d81dd14e881"
      },
      "execution_count": null,
      "outputs": [
        {
          "output_type": "stream",
          "name": "stdout",
          "text": [
            "Character Tokens: ['T', 'o', 'k', 'e', 'n', 'i', 'z', 'a', 't', 'i', 'o', 'n', 'i', 's', 'c', 'h', 'a', 'l', 'l', 'e', 'n', 'g', 'i', 'n', 'g', '.']\n",
            "Subword Tokens: ['token', '##ization', 'is', 'challenging', '.']\n"
          ]
        }
      ]
    },
    {
      "cell_type": "code",
      "source": [
        "import random\n",
        "import nltk\n",
        "\n",
        "# Download NLTK data for tokenization and preprocessing (only required once)\n",
        "nltk.download('punkt')\n",
        "\n",
        "def tokenize_input(user_input):\n",
        "    # Tokenize the user input into words\n",
        "    return nltk.word_tokenize(user_input.lower())\n",
        "\n",
        "# Expanded responses for different intents\n",
        "greetings = [\n",
        "    \"Hello! How can I assist you today?\",\n",
        "    \"Hi there! What can I do for you?\",\n",
        "    \"Hello! How's it going?\",\n",
        "    \"Hey! How are you?\",\n",
        "    \"Greetings! How can I help you?\",\n",
        "    \"Hi! Hope you're having a great day!\"\n",
        "]\n",
        "\n",
        "farewells = [\n",
        "    \"Goodbye! Have a great day!\",\n",
        "    \"See you later!\",\n",
        "    \"Goodbye! Take care!\",\n",
        "    \"Bye! Looking forward to our next chat.\",\n",
        "    \"Farewell! Let me know if you need help again.\",\n",
        "    \"Catch you later! Stay safe!\"\n",
        "]\n",
        "\n",
        "unknown_responses = [\n",
        "    \"I'm not sure how to respond to that.\",\n",
        "    \"Could you please clarify?\",\n",
        "    \"I didn't understand that.\",\n",
        "    \"I'm here to help, but I didn't quite catch that.\",\n",
        "    \"Hmm, I'm not sure. Could you rephrase?\",\n",
        "    \"I’m not entirely sure. Could you try asking differently?\"\n",
        "]\n",
        "\n",
        "# Responses for \"Five Ws\" questions\n",
        "who_responses = [\n",
        "    \"I'm just a simple bot created to chat with you!\",\n",
        "    \"I'm your friendly virtual assistant here to help.\",\n",
        "    \"I'm a chatbot, designed to make your day a bit easier.\",\n",
        "    \"I'm an AI developed to answer your questions and keep you company.\"\n",
        "]\n",
        "\n",
        "what_responses = [\n",
        "    \"I can help answer questions, have a chat, or keep you company.\",\n",
        "    \"I'm here to assist you with whatever I can.\",\n",
        "    \"I'm a virtual assistant here to lend a hand with information or advice.\",\n",
        "    \"I help with small tasks, conversation, and general queries.\"\n",
        "]\n",
        "\n",
        "when_responses = [\n",
        "    \"I'm available anytime you need!\",\n",
        "    \"Whenever you'd like! I'm here 24/7.\",\n",
        "    \"I'm here round the clock, so feel free to reach out anytime.\",\n",
        "    \"Anytime works for me! Just type, and I’ll be here.\"\n",
        "]\n",
        "\n",
        "where_responses = [\n",
        "    \"I'm right here with you, wherever you are!\",\n",
        "    \"I'm in the digital world, ready to help wherever you may be.\",\n",
        "    \"I exist in the virtual realm, always ready to chat.\",\n",
        "    \"Wherever you have an internet connection, that’s where I’ll be!\"\n",
        "]\n",
        "\n",
        "why_responses = [\n",
        "    \"That's a great question! I was created to chat and assist with basic information.\",\n",
        "    \"I'm here to make your day a bit easier and answer your questions!\",\n",
        "    \"I was designed to be your helpful companion for questions and small tasks.\",\n",
        "    \"Why? Because chatting with people like you is what I’m here for!\"\n",
        "]\n",
        "\n",
        "def get_response(user_input):\n",
        "    tokens = tokenize_input(user_input)\n",
        "\n",
        "    # Greeting intent\n",
        "    if any(word in tokens for word in [\"hello\", \"hi\", \"hey\", \"greetings\", \"hola\", \"hi there\"]):\n",
        "        return random.choice(greetings)\n",
        "\n",
        "    # Farewell intent\n",
        "    elif any(word in tokens for word in [\"bye\", \"goodbye\", \"see you\", \"farewell\", \"later\"]):\n",
        "        return random.choice(farewells)\n",
        "\n",
        "    # Weather-related intent\n",
        "    elif \"weather\" in tokens:\n",
        "        return \"I'm not connected to the internet, so I can't give you a real weather update, but it's always sunny when we're chatting!\"\n",
        "\n",
        "    # Who-related intent\n",
        "    elif \"who\" in tokens:\n",
        "        return random.choice(who_responses)\n",
        "\n",
        "    # What-related intent\n",
        "    elif \"what\" in tokens:\n",
        "        return random.choice(what_responses)\n",
        "\n",
        "    # When-related intent\n",
        "    elif \"when\" in tokens:\n",
        "        return random.choice(when_responses)\n",
        "\n",
        "    # Where-related intent\n",
        "    elif \"where\" in tokens:\n",
        "        return random.choice(where_responses)\n",
        "\n",
        "    # Why-related intent\n",
        "    elif \"why\" in tokens:\n",
        "        return random.choice(why_responses)\n",
        "\n",
        "    # Unknown input\n",
        "    else:\n",
        "        return random.choice(unknown_responses)\n",
        "\n",
        "# Main loop to interact with the user\n",
        "def chat():\n",
        "    print(\"Bot: Hello! I'm here to chat with you. Type 'bye' to exit.\")\n",
        "    while True:\n",
        "        user_input = input(\"You: \")\n",
        "\n",
        "        if user_input.lower() in [\"bye\", \"exit\", \"quit\"]:\n",
        "            print(\"Bot:\", random.choice(farewells))\n",
        "            break\n",
        "\n",
        "        response = get_response(user_input)\n",
        "        print(\"Bot:\", response)\n",
        "\n",
        "# Start chatting\n",
        "chat()\n"
      ],
      "metadata": {
        "colab": {
          "base_uri": "https://localhost:8080/"
        },
        "id": "pRYOLDUT2F0g",
        "outputId": "98561e57-9413-4fc4-e43c-10be5d147091"
      },
      "execution_count": null,
      "outputs": [
        {
          "output_type": "stream",
          "name": "stderr",
          "text": [
            "[nltk_data] Downloading package punkt to /root/nltk_data...\n",
            "[nltk_data]   Unzipping tokenizers/punkt.zip.\n"
          ]
        },
        {
          "output_type": "stream",
          "name": "stdout",
          "text": [
            "Bot: Hello! I'm here to chat with you. Type 'bye' to exit.\n",
            "You: hi\n",
            "Bot: Hello! How's it going?\n",
            "You: who are you\n",
            "Bot: I'm an AI developed to answer your questions and keep you company.\n",
            "You: What can you help\n",
            "Bot: I'm a virtual assistant here to lend a hand with information or advice.\n",
            "You: When are you availaible\n",
            "Bot: I'm available anytime you need!\n",
            "You: Thanks\n",
            "Bot: Could you please clarify?\n",
            "You: bye\n",
            "Bot: Bye! Looking forward to our next chat.\n"
          ]
        }
      ]
    }
  ]
}