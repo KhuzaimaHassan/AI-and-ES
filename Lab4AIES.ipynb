{
  "nbformat": 4,
  "nbformat_minor": 0,
  "metadata": {
    "colab": {
      "provenance": [],
      "authorship_tag": "ABX9TyNyzNiDu/pdHBAOGQcF0d6P",
      "include_colab_link": true
    },
    "kernelspec": {
      "name": "python3",
      "display_name": "Python 3"
    },
    "language_info": {
      "name": "python"
    }
  },
  "cells": [
    {
      "cell_type": "markdown",
      "metadata": {
        "id": "view-in-github",
        "colab_type": "text"
      },
      "source": [
        "<a href=\"https://colab.research.google.com/github/KhuzaimaHassan/AI-and-ES/blob/main/Lab4AIES.ipynb\" target=\"_parent\"><img src=\"https://colab.research.google.com/assets/colab-badge.svg\" alt=\"Open In Colab\"/></a>"
      ]
    },
    {
      "cell_type": "code",
      "execution_count": null,
      "metadata": {
        "colab": {
          "base_uri": "https://localhost:8080/"
        },
        "id": "A8IVbmbevhpn",
        "outputId": "b8b58d0c-90d7-498d-b61c-61602edf79a3"
      },
      "outputs": [
        {
          "output_type": "stream",
          "name": "stdout",
          "text": [
            "['A', 'B', 'D', 'E', 'C']\n",
            "['B', 'D', 'E']\n",
            "['C']\n",
            "['D']\n",
            "['E']\n"
          ]
        }
      ],
      "source": [
        "graph={'A':['B','C','E'],\n",
        "       'B':['D','E'],\n",
        "       'C':[],\n",
        "       'D':[],\n",
        "       'E':[]\n",
        "       }\n",
        "def dfs(graph,node,visited):\n",
        "    if node not in visited:\n",
        "        visited.append(node)\n",
        "        for n in graph[node]:\n",
        "            dfs(graph,n,visited)\n",
        "    return visited\n",
        "\n",
        "visited=dfs(graph,'A',[])\n",
        "print(visited)\n",
        "visited=dfs(graph,'B',[])\n",
        "print(visited)\n",
        "visited=dfs(graph,'C',[])\n",
        "print(visited)\n",
        "visited=dfs(graph,'D',[])\n",
        "print(visited)\n",
        "visited=dfs(graph,'E',[])\n",
        "print(visited)"
      ]
    },
    {
      "cell_type": "code",
      "source": [
        "graph={'A':['B','C'],\n",
        "       'B':['D','E'],\n",
        "       'C':['F'],\n",
        "       'D':[],\n",
        "       'E':['F'],\n",
        "       'F':[]\n",
        "       }\n",
        "def dfs(graph,node,visited):\n",
        "    if node not in visited:\n",
        "        visited.append(node)\n",
        "        for n in graph[node]:\n",
        "            dfs(graph,n,visited)\n",
        "    return visited\n",
        "\n",
        "visited=dfs(graph,'A',[])\n",
        "print(visited)"
      ],
      "metadata": {
        "colab": {
          "base_uri": "https://localhost:8080/"
        },
        "id": "m0PP3uX80qCm",
        "outputId": "387910bf-6ce2-4bea-d818-968286121a1b"
      },
      "execution_count": null,
      "outputs": [
        {
          "output_type": "stream",
          "name": "stdout",
          "text": [
            "['A', 'B', 'D', 'E', 'F', 'C']\n"
          ]
        }
      ]
    },
    {
      "cell_type": "code",
      "source": [
        "graph={1:[2,5],\n",
        "       2:[1,3,5],\n",
        "       3:[2,4],\n",
        "       4:[3,5,6],\n",
        "       5:[1,2,4],\n",
        "       6:[4]\n",
        "       }\n",
        "def dfs(graph,node,visited):\n",
        "    if node not in visited:\n",
        "        visited.append(node)\n",
        "        for n in graph[node]:\n",
        "            dfs(graph,n,visited)\n",
        "    return visited\n",
        "\n",
        "visited=dfs(graph,1,[])\n",
        "print(visited)"
      ],
      "metadata": {
        "colab": {
          "base_uri": "https://localhost:8080/"
        },
        "id": "neeaZqEP3JFs",
        "outputId": "6f04bce8-40f1-4970-c0f9-2c31b108a495"
      },
      "execution_count": null,
      "outputs": [
        {
          "output_type": "stream",
          "name": "stdout",
          "text": [
            "[1, 2, 3, 4, 5, 6]\n"
          ]
        }
      ]
    },
    {
      "cell_type": "code",
      "source": [
        "graph={\n",
        "    1: [2, 3],\n",
        "    2: [],\n",
        "    3: [2,4],\n",
        "    4: [3]\n",
        "\n",
        "}\n",
        "def dfs(graph,node,visited):\n",
        "    if node not in visited:\n",
        "        visited.append(node)\n",
        "        for n in graph[node]:\n",
        "            dfs(graph,n,visited)\n",
        "    return visited\n",
        "\n",
        "visited=dfs(graph,1,[])\n",
        "print(visited)"
      ],
      "metadata": {
        "colab": {
          "base_uri": "https://localhost:8080/"
        },
        "id": "Z03b70VT4TA5",
        "outputId": "9c365d50-ec55-4733-c270-d10d488eebbc"
      },
      "execution_count": null,
      "outputs": [
        {
          "output_type": "stream",
          "name": "stdout",
          "text": [
            "[1, 2, 3, 4]\n"
          ]
        }
      ]
    },
    {
      "cell_type": "code",
      "source": [
        "graph={'A':set(['B','C','E']),\n",
        "       'B':set(['D','E']),\n",
        "       'C':set([]),\n",
        "       'D':set([]),\n",
        "       'E':set([])\n",
        "       }\n",
        "def find_path(graph,start,end,path=None):\n",
        "    if path is None:\n",
        "        path=[]\n",
        "    path=path+[start]\n",
        "    if start==end:\n",
        "        return path\n",
        "    if start not in graph:\n",
        "        return None\n",
        "    for node in graph[start]:\n",
        "        if node not in path:\n",
        "            newpath=find_path(graph,node,end,path)\n",
        "            if newpath:\n",
        "                return newpath\n",
        "    return None\n",
        "\n",
        "find_path(graph,'A','E')"
      ],
      "metadata": {
        "colab": {
          "base_uri": "https://localhost:8080/"
        },
        "id": "_JdxkxAi45Yx",
        "outputId": "ae8d80fb-d782-4521-de6f-9b1d4e257992"
      },
      "execution_count": null,
      "outputs": [
        {
          "output_type": "execute_result",
          "data": {
            "text/plain": [
              "['A', 'E']"
            ]
          },
          "metadata": {},
          "execution_count": 19
        }
      ]
    },
    {
      "cell_type": "code",
      "source": [
        "graph={'A':set(['B','C']),\n",
        "       'B':set(['D','E']),\n",
        "       'C':set(['F']),\n",
        "       'D':set([]),\n",
        "       'E':set(['F']),\n",
        "       'F':set([])\n",
        "       }\n",
        "def find_path(graph,start,end,path=None):\n",
        "    if path is None:\n",
        "        path=[]\n",
        "    path=path+[start]\n",
        "    if start==end:\n",
        "        return path\n",
        "    if start not in graph:\n",
        "        return None\n",
        "    for node in graph[start]:\n",
        "        if node not in path:\n",
        "            newpath=find_path(graph,node,end,path)\n",
        "            if newpath:\n",
        "                return newpath\n",
        "    return None\n",
        "\n",
        "find_path(graph,'A','E')"
      ],
      "metadata": {
        "colab": {
          "base_uri": "https://localhost:8080/"
        },
        "id": "jteL9S1T5sw7",
        "outputId": "8246fc71-560c-4cfe-a2ef-e79c28e6abb2"
      },
      "execution_count": null,
      "outputs": [
        {
          "output_type": "execute_result",
          "data": {
            "text/plain": [
              "['A', 'B', 'E']"
            ]
          },
          "metadata": {},
          "execution_count": 4
        }
      ]
    },
    {
      "cell_type": "code",
      "source": [
        "graph={'A':set(['B','C']),\n",
        "       'B':set(['D','E']),\n",
        "       'C':set(['F']),\n",
        "       'D':set([]),\n",
        "       'E':set(['F']),\n",
        "       'F':set([])\n",
        "       }\n",
        "def find_all_path(graph,start,end,path=None):\n",
        "    if path is None:\n",
        "        path=[]\n",
        "    path=path+[start]\n",
        "    if start==end:\n",
        "        return [path]\n",
        "    if start not in graph:\n",
        "        return []\n",
        "    paths=[]\n",
        "    for node in graph[start]:\n",
        "        if node not in path:\n",
        "            newpaths=find_all_path(graph,node,end,path)\n",
        "            for newpath in newpaths:\n",
        "                paths.append(newpath)\n",
        "    return paths\n",
        "\n",
        "find_all_path(graph,'A','E')"
      ],
      "metadata": {
        "colab": {
          "base_uri": "https://localhost:8080/"
        },
        "id": "bgsxzbYM-jbZ",
        "outputId": "d98da3da-55ba-4ccd-9a5f-516d41a9a543"
      },
      "execution_count": null,
      "outputs": [
        {
          "output_type": "execute_result",
          "data": {
            "text/plain": [
              "[['A', 'B', 'E']]"
            ]
          },
          "metadata": {},
          "execution_count": 5
        }
      ]
    },
    {
      "cell_type": "code",
      "source": [
        "graph={'A':set(['B','D']),\n",
        "       'B':set(['C']),\n",
        "       'C':set([]),\n",
        "       'D':set(['E']),\n",
        "       'E':set([])\n",
        "       }\n",
        "def find_path(graph,start,end,path=None):\n",
        "    if path is None:\n",
        "        path=[]\n",
        "    path=path+[start]\n",
        "    if start==end:\n",
        "        return path\n",
        "    if start not in graph:\n",
        "        return None\n",
        "    for node in graph[start]:\n",
        "        if node not in path:\n",
        "            newpath=find_path(graph,node,end,path)\n",
        "            if newpath:\n",
        "                return newpath\n",
        "    return None\n",
        "\n",
        "find_path(graph,'A','E')"
      ],
      "metadata": {
        "colab": {
          "base_uri": "https://localhost:8080/"
        },
        "id": "cpogxK6F_Zh4",
        "outputId": "74fb7f87-7232-46f7-8f85-14e4972aa946"
      },
      "execution_count": null,
      "outputs": [
        {
          "output_type": "execute_result",
          "data": {
            "text/plain": [
              "['A', 'D', 'E']"
            ]
          },
          "metadata": {},
          "execution_count": 7
        }
      ]
    },
    {
      "cell_type": "code",
      "source": [
        "graph={'A':set(['B','D']),\n",
        "       'B':set(['C']),\n",
        "       'C':set([]),\n",
        "       'D':set(['E']),\n",
        "       'E':set([])\n",
        "       }\n",
        "def find_all_path(graph,start,end,path=None):\n",
        "    if path is None:\n",
        "        path=[]\n",
        "    path=path+[start]\n",
        "    if start==end:\n",
        "        return [path]\n",
        "    if start not in graph:\n",
        "        return []\n",
        "    paths=[]\n",
        "    for node in graph[start]:\n",
        "        if node not in path:\n",
        "            newpaths=find_all_path(graph,node,end,path)\n",
        "            for newpath in newpaths:\n",
        "                paths.append(newpath)\n",
        "    return paths\n",
        "\n",
        "find_all_path(graph,'A','E')"
      ],
      "metadata": {
        "colab": {
          "base_uri": "https://localhost:8080/"
        },
        "id": "oT2Tz9n0_eB5",
        "outputId": "007fa205-0519-4a84-a7a6-5620213b8b8c"
      },
      "execution_count": null,
      "outputs": [
        {
          "output_type": "execute_result",
          "data": {
            "text/plain": [
              "[['A', 'D', 'E']]"
            ]
          },
          "metadata": {},
          "execution_count": 8
        }
      ]
    },
    {
      "cell_type": "code",
      "source": [
        "graph={'A':set(['B']),\n",
        "       'B':set(['A','C']),\n",
        "       'C':set(['B','D','E']),\n",
        "       'D':set(['C','E','F','G']),\n",
        "       'E':set(['C','D','F']),\n",
        "       'F':set(['D','E','G']),\n",
        "       'G':set(['D'])\n",
        "       }\n",
        "def find_path(graph,start,end,path=None):\n",
        "    if path is None:\n",
        "        path=[]\n",
        "    path=path+[start]\n",
        "    if start==end:\n",
        "        return path\n",
        "    if start not in graph:\n",
        "        return None\n",
        "    for node in graph[start]:\n",
        "        if node not in path:\n",
        "            newpath=find_path(graph,node,end,path)\n",
        "            if newpath:\n",
        "                return newpath\n",
        "    return None\n",
        "\n",
        "find_path(graph,'A','E')"
      ],
      "metadata": {
        "colab": {
          "base_uri": "https://localhost:8080/"
        },
        "id": "w8mfL3EHBbKZ",
        "outputId": "fc5cfeaa-a9c3-4bcc-81f5-c55cc49cf6d5"
      },
      "execution_count": null,
      "outputs": [
        {
          "output_type": "execute_result",
          "data": {
            "text/plain": [
              "['A', 'B', 'C', 'D', 'F', 'E']"
            ]
          },
          "metadata": {},
          "execution_count": 1
        }
      ]
    },
    {
      "cell_type": "code",
      "source": [
        "graph={'A':set(['B']),\n",
        "       'B':set(['A','C']),\n",
        "       'C':set(['B','D','E']),\n",
        "       'D':set(['C','E','F','G']),\n",
        "       'E':set(['C','D','F']),\n",
        "       'F':set(['D','E','G']),\n",
        "       'G':set(['D'])\n",
        "       }\n",
        "def find_all_path(graph,start,end,path=None):\n",
        "    if path is None:\n",
        "        path=[]\n",
        "    path=path+[start]\n",
        "    if start==end:\n",
        "        return [path]\n",
        "    if start not in graph:\n",
        "        return []\n",
        "    paths=[]\n",
        "    for node in graph[start]:\n",
        "        if node not in path:\n",
        "            newpaths=find_all_path(graph,node,end,path)\n",
        "            for newpath in newpaths:\n",
        "                paths.append(newpath)\n",
        "    return paths\n",
        "\n",
        "find_all_path(graph,'A','E')"
      ],
      "metadata": {
        "colab": {
          "base_uri": "https://localhost:8080/"
        },
        "id": "krwzJRb_Bb_w",
        "outputId": "daac51f4-f165-45a0-d97b-7465f7572308"
      },
      "execution_count": null,
      "outputs": [
        {
          "output_type": "execute_result",
          "data": {
            "text/plain": [
              "[['A', 'B', 'C', 'D', 'F', 'E'],\n",
              " ['A', 'B', 'C', 'D', 'E'],\n",
              " ['A', 'B', 'C', 'E']]"
            ]
          },
          "metadata": {},
          "execution_count": 2
        }
      ]
    },
    {
      "cell_type": "code",
      "source": [
        "graph={1:[2,3,4],\n",
        "       2:[4,5],\n",
        "       3:[6],\n",
        "       4:[3,6,7],\n",
        "       5:[4,7],\n",
        "       6:[],\n",
        "       7:[6]\n",
        "       }\n",
        "def find_path(graph,start,end,path=None):\n",
        "    if path is None:\n",
        "        path=[]\n",
        "    path=path+[start]\n",
        "    if start==end:\n",
        "        return path\n",
        "    if start not in graph:\n",
        "        return None\n",
        "    for node in graph[start]:\n",
        "        if node not in path:\n",
        "            newpath=find_path(graph,node,end,path)\n",
        "            if newpath:\n",
        "                return newpath\n",
        "    return None\n",
        "\n",
        "find_path(graph,1,6)"
      ],
      "metadata": {
        "colab": {
          "base_uri": "https://localhost:8080/"
        },
        "id": "I4FBl8gpjl02",
        "outputId": "f39d995d-961d-48a9-9a1d-9f4de3b268a0"
      },
      "execution_count": null,
      "outputs": [
        {
          "output_type": "execute_result",
          "data": {
            "text/plain": [
              "[1, 2, 4, 3, 6]"
            ]
          },
          "metadata": {},
          "execution_count": 9
        }
      ]
    },
    {
      "cell_type": "code",
      "source": [
        "graph={1:[2,3,4],\n",
        "       2:[4,5],\n",
        "       3:[6],\n",
        "       4:[3,6,7],\n",
        "       5:[4,7],\n",
        "       6:[],\n",
        "       7:[6]\n",
        "       }\n",
        "def find_all_path(graph,start,end,path=None):\n",
        "    if path is None:\n",
        "        path=[]\n",
        "    path=path+[start]\n",
        "    if start==end:\n",
        "        return [path]\n",
        "    if start not in graph:\n",
        "        return []\n",
        "    paths=[]\n",
        "    for node in graph[start]:\n",
        "        if node not in path:\n",
        "            newpaths=find_all_path(graph,node,end,path)\n",
        "            for newpath in newpaths:\n",
        "                paths.append(newpath)\n",
        "    return paths\n",
        "\n",
        "find_all_path(graph,1,6)"
      ],
      "metadata": {
        "colab": {
          "base_uri": "https://localhost:8080/"
        },
        "id": "QVMcm3Myjo-W",
        "outputId": "8f6a7596-7304-4b9d-f4a1-d93590f999ac"
      },
      "execution_count": null,
      "outputs": [
        {
          "output_type": "execute_result",
          "data": {
            "text/plain": [
              "[[1, 2, 4, 3, 6],\n",
              " [1, 2, 4, 6],\n",
              " [1, 2, 4, 7, 6],\n",
              " [1, 2, 5, 4, 3, 6],\n",
              " [1, 2, 5, 4, 6],\n",
              " [1, 2, 5, 4, 7, 6],\n",
              " [1, 2, 5, 7, 6],\n",
              " [1, 3, 6],\n",
              " [1, 4, 3, 6],\n",
              " [1, 4, 6],\n",
              " [1, 4, 7, 6]]"
            ]
          },
          "metadata": {},
          "execution_count": 10
        }
      ]
    },
    {
      "cell_type": "code",
      "source": [
        "graph={'A':set(['B','C','E']),\n",
        "       'B':set(['D','E']),\n",
        "       'C':set([]),\n",
        "       'D':set([]),\n",
        "       'E':set([])\n",
        "       }\n",
        "def find_all_path(graph,start,end,path=None):\n",
        "    if path is None:\n",
        "        path=[]\n",
        "    path=path+[start]\n",
        "    if start==end:\n",
        "        return [path]\n",
        "    if start not in graph:\n",
        "        return []\n",
        "    paths=[]\n",
        "    for node in graph[start]:\n",
        "        if node not in path:\n",
        "            newpaths=find_all_path(graph,node,end,path)\n",
        "            for newpath in newpaths:\n",
        "                paths.append(newpath)\n",
        "    return paths\n",
        "\n",
        "find_all_path(graph,'A','E')"
      ],
      "metadata": {
        "colab": {
          "base_uri": "https://localhost:8080/"
        },
        "id": "8C6gguhl6IpD",
        "outputId": "8aa65755-21d2-48c4-9ce2-5537eea7141c"
      },
      "execution_count": null,
      "outputs": [
        {
          "output_type": "execute_result",
          "data": {
            "text/plain": [
              "[['A', 'B', 'E'], ['A', 'E']]"
            ]
          },
          "metadata": {},
          "execution_count": 6
        }
      ]
    },
    {
      "cell_type": "code",
      "source": [
        "from collections import deque\n",
        "graph={'A':set(['B','C','E']),\n",
        "       'B':set(['D','E']),\n",
        "       'C':set([]),\n",
        "       'D':set([]),\n",
        "       'E':set([])\n",
        "       }\n",
        "def shortest_path(graph,start,end):\n",
        "  queue=deque([(start,[start])])\n",
        "  while queue:\n",
        "    node,path=queue.popleft()\n",
        "    if node==end:\n",
        "      return path\n",
        "    for neighbor in graph[node]:\n",
        "      if neighbor not in path:\n",
        "        queue.append((neighbor,path+[neighbor]))\n",
        "  return None\n",
        "print(shortest_path(graph,'A','E'))"
      ],
      "metadata": {
        "colab": {
          "base_uri": "https://localhost:8080/"
        },
        "id": "fk6879Sz7gOz",
        "outputId": "7057326b-e76b-4449-8d3a-88161a506596"
      },
      "execution_count": null,
      "outputs": [
        {
          "output_type": "stream",
          "name": "stdout",
          "text": [
            "['A', 'E']\n"
          ]
        }
      ]
    },
    {
      "cell_type": "code",
      "source": [
        "from collections import deque\n",
        "graph={1:[2,3],\n",
        "       2:[4,5],\n",
        "       3:[6],\n",
        "       4:[7],\n",
        "       5:[7],\n",
        "       6:[5,7],\n",
        "       7:[]\n",
        "       }\n",
        "def shortest_path(graph,start,end):\n",
        "  queue=deque([(start,[start])])\n",
        "  while queue:\n",
        "    node,path=queue.popleft()\n",
        "    if node==end:\n",
        "      return path\n",
        "    for neighbor in graph[node]:\n",
        "      if neighbor not in path:\n",
        "        queue.append((neighbor,path+[neighbor]))\n",
        "  return None\n",
        "print(shortest_path(graph,1,7))"
      ],
      "metadata": {
        "id": "NwueIDpu9ggE",
        "colab": {
          "base_uri": "https://localhost:8080/"
        },
        "outputId": "b5578d4a-42d6-4c48-ecec-dbb657d94e21"
      },
      "execution_count": null,
      "outputs": [
        {
          "output_type": "stream",
          "name": "stdout",
          "text": [
            "[1, 2, 4, 7]\n"
          ]
        }
      ]
    },
    {
      "cell_type": "code",
      "source": [
        "from collections import deque\n",
        "graph={0:[1],\n",
        "       1:[0,2,3,5],\n",
        "       2:[1],\n",
        "       3:[1,4],\n",
        "       4:[3,5],\n",
        "       5:[1,4]\n",
        "       }\n",
        "def shortest_path(graph,start,end):\n",
        "  queue=deque([(start,[start])])\n",
        "  while queue:\n",
        "    node,path=queue.popleft()\n",
        "    if node==end:\n",
        "      return path\n",
        "    for neighbor in graph[node]:\n",
        "      if neighbor not in path:\n",
        "        queue.append((neighbor,path+[neighbor]))\n",
        "  return None\n",
        "print(shortest_path(graph,1,4))"
      ],
      "metadata": {
        "colab": {
          "base_uri": "https://localhost:8080/"
        },
        "id": "nQx4Swk8wBHz",
        "outputId": "518f976f-8170-4819-fd17-b55bae98967f"
      },
      "execution_count": null,
      "outputs": [
        {
          "output_type": "stream",
          "name": "stdout",
          "text": [
            "[1, 3, 4]\n"
          ]
        }
      ]
    },
    {
      "cell_type": "code",
      "source": [
        "from collections import deque\n",
        "graph={2:[],\n",
        "       3:[8,10],\n",
        "       5:[11],\n",
        "       7:[8,11],\n",
        "       8:[9],\n",
        "       9:[],\n",
        "       10:[],\n",
        "       11:[2,9,10]\n",
        "       }\n",
        "def shortest_path(graph,start,end):\n",
        "  queue=deque([(start,[start])])\n",
        "  while queue:\n",
        "    node,path=queue.popleft()\n",
        "    if node==end:\n",
        "      return path\n",
        "    for neighbor in graph[node]:\n",
        "      if neighbor not in path:\n",
        "        queue.append((neighbor,path+[neighbor]))\n",
        "  return None\n",
        "print(shortest_path(graph,3,9))"
      ],
      "metadata": {
        "colab": {
          "base_uri": "https://localhost:8080/"
        },
        "id": "Pin7zBZJxq2y",
        "outputId": "cad98eb3-6fc3-46bc-f496-5d625e2d2e49"
      },
      "execution_count": null,
      "outputs": [
        {
          "output_type": "stream",
          "name": "stdout",
          "text": [
            "[3, 8, 9]\n"
          ]
        }
      ]
    },
    {
      "cell_type": "code",
      "source": [
        "graph={\n",
        "    1:[2,3,4],\n",
        "    2:[1,3,4],\n",
        "    3:[1,2,4],\n",
        "    4:[1,2,3,5],\n",
        "    5:[4,6,7,8],\n",
        "    6:[5,7,8],\n",
        "    7:[5,6,8],\n",
        "    8:[5,6,7]\n",
        "}\n",
        "#Apply DFS to find traversal path\n",
        "def dfs(graph,node,visited):\n",
        "    if node not in visited:\n",
        "        visited.append(node)\n",
        "        for n in graph[node]:\n",
        "            dfs(graph,n,visited)\n",
        "    return visited\n",
        "\n",
        "visited=dfs(graph,1,[])\n",
        "print(visited)\n",
        "#Find single path between 1 & 6\n",
        "def find_path(graph,start,end,path=None):\n",
        "    if path is None:\n",
        "        path=[]\n",
        "    path=path+[start]\n",
        "    if start==end:\n",
        "        return path\n",
        "    if start not in graph:\n",
        "        return None\n",
        "    for node in graph[start]:\n",
        "        if node not in path:\n",
        "            newpath=find_path(graph,node,end,path)\n",
        "            if newpath:\n",
        "                return newpath\n",
        "    return None\n",
        "\n",
        "print(find_path(graph,1,6))\n",
        "#Find all paths between 1 & 6\n",
        "def find_all_path(graph,start,end,path=None):\n",
        "    if path is None:\n",
        "        path=[]\n",
        "    path=path+[start]\n",
        "    if start==end:\n",
        "        return [path]\n",
        "    if start not in graph:\n",
        "        return []\n",
        "    paths=[]\n",
        "    for node in graph[start]:\n",
        "        if node not in path:\n",
        "            newpaths=find_all_path(graph,node,end,path)\n",
        "            for newpath in newpaths:\n",
        "                paths.append(newpath)\n",
        "    return paths\n",
        "\n",
        "print(find_all_path(graph,1,6))\n",
        "#Find shortest path between 1 & 6\n",
        "def shortest_path(graph,start,end):\n",
        "  queue=deque([(start,[start])])\n",
        "  while queue:\n",
        "    node,path=queue.popleft()\n",
        "    if node==end:\n",
        "      return path\n",
        "    for neighbor in graph[node]:\n",
        "      if neighbor not in path:\n",
        "        queue.append((neighbor,path+[neighbor]))\n",
        "  return None\n",
        "print(shortest_path(graph,1,6))"
      ],
      "metadata": {
        "colab": {
          "base_uri": "https://localhost:8080/"
        },
        "id": "pXT24E5K0LFd",
        "outputId": "79b2edb9-a7f8-44b0-d86a-c6e8a6a6b08d"
      },
      "execution_count": null,
      "outputs": [
        {
          "output_type": "stream",
          "name": "stdout",
          "text": [
            "[1, 2, 3, 4, 5, 6, 7, 8]\n",
            "[1, 2, 3, 4, 5, 6]\n",
            "[[1, 2, 3, 4, 5, 6], [1, 2, 3, 4, 5, 7, 6], [1, 2, 3, 4, 5, 7, 8, 6], [1, 2, 3, 4, 5, 8, 6], [1, 2, 3, 4, 5, 8, 7, 6], [1, 2, 4, 5, 6], [1, 2, 4, 5, 7, 6], [1, 2, 4, 5, 7, 8, 6], [1, 2, 4, 5, 8, 6], [1, 2, 4, 5, 8, 7, 6], [1, 3, 2, 4, 5, 6], [1, 3, 2, 4, 5, 7, 6], [1, 3, 2, 4, 5, 7, 8, 6], [1, 3, 2, 4, 5, 8, 6], [1, 3, 2, 4, 5, 8, 7, 6], [1, 3, 4, 5, 6], [1, 3, 4, 5, 7, 6], [1, 3, 4, 5, 7, 8, 6], [1, 3, 4, 5, 8, 6], [1, 3, 4, 5, 8, 7, 6], [1, 4, 5, 6], [1, 4, 5, 7, 6], [1, 4, 5, 7, 8, 6], [1, 4, 5, 8, 6], [1, 4, 5, 8, 7, 6]]\n",
            "[1, 4, 5, 6]\n"
          ]
        }
      ]
    },
    {
      "cell_type": "code",
      "source": [
        "graph={\n",
        "    'A':['B','C','D'],\n",
        "    'B':['A','E'],\n",
        "    'C':['A','F'],\n",
        "    'D':['A','E','G'],\n",
        "    'E':['B','D','G'],\n",
        "    'F':['C','G'],\n",
        "    'G':['D','E','F']\n",
        "}\n",
        "#Apply DFS to find traversal path\n",
        "def dfs(graph,node,visited):\n",
        "    if node not in visited:\n",
        "        visited.append(node)\n",
        "        for n in graph[node]:\n",
        "            dfs(graph,n,visited)\n",
        "    return visited\n",
        "\n",
        "visited=dfs(graph,'A',[])\n",
        "print(visited)\n",
        "#Find single path between A & G\n",
        "def find_path(graph,start,end,path=None):\n",
        "    if path is None:\n",
        "        path=[]\n",
        "    path=path+[start]\n",
        "    if start==end:\n",
        "        return path\n",
        "    if start not in graph:\n",
        "        return None\n",
        "    for node in graph[start]:\n",
        "        if node not in path:\n",
        "            newpath=find_path(graph,node,end,path)\n",
        "            if newpath:\n",
        "                return newpath\n",
        "    return None\n",
        "\n",
        "print(find_path(graph,'A','G'))\n",
        "#Find all paths between A & G\n",
        "def find_all_path(graph,start,end,path=None):\n",
        "    if path is None:\n",
        "        path=[]\n",
        "    path=path+[start]\n",
        "    if start==end:\n",
        "        return [path]\n",
        "    if start not in graph:\n",
        "        return []\n",
        "    paths=[]\n",
        "    for node in graph[start]:\n",
        "        if node not in path:\n",
        "            newpaths=find_all_path(graph,node,end,path)\n",
        "            for newpath in newpaths:\n",
        "                paths.append(newpath)\n",
        "    return paths\n",
        "\n",
        "print(find_all_path(graph,'A','G'))\n",
        "#Find shortest path between A & G\n",
        "def shortest_path(graph,start,end):\n",
        "  queue=deque([(start,[start])])\n",
        "  while queue:\n",
        "    node,path=queue.popleft()\n",
        "    if node==end:\n",
        "      return path\n",
        "    for neighbor in graph[node]:\n",
        "      if neighbor not in path:\n",
        "        queue.append((neighbor,path+[neighbor]))\n",
        "  return None\n",
        "print(shortest_path(graph,'A','G'))"
      ],
      "metadata": {
        "id": "vFRtvU-416eF",
        "colab": {
          "base_uri": "https://localhost:8080/"
        },
        "outputId": "527d54bf-ef70-4c3b-df99-1d691570e676"
      },
      "execution_count": null,
      "outputs": [
        {
          "output_type": "stream",
          "name": "stdout",
          "text": [
            "['A', 'B', 'E', 'D', 'G', 'F', 'C']\n",
            "['A', 'B', 'E', 'D', 'G']\n",
            "[['A', 'B', 'E', 'D', 'G'], ['A', 'B', 'E', 'G'], ['A', 'C', 'F', 'G'], ['A', 'D', 'E', 'G'], ['A', 'D', 'G']]\n",
            "['A', 'D', 'G']\n"
          ]
        }
      ]
    }
  ]
}